{
 "cells": [
  {
   "cell_type": "markdown",
   "metadata": {},
   "source": [
    "# Working with <i>if-else</i> Statement"
   ]
  },
  {
   "cell_type": "markdown",
   "metadata": {},
   "source": [
    "## Table of Content"
   ]
  },
  {
   "cell_type": "markdown",
   "metadata": {},
   "source": [
    "<div style=\"margin-top: 20px\">\n",
    "    <ul>\n",
    "        <li><a href=\"#if_else\"> <i>if-else</i> Statement Definition</a>\n",
    "        <li><a href=\"#if\">The <i>if</i> Statement</a></li>\n",
    "        <li><a href=\"#nif_else\">Nested <i>if-else</i> Statement</a></li>\n",
    "        <li><a href=\"#elif\">The <i>elif</i> Clause</a></li>\n",
    "        <li><a href=\"#lab\">Lab Assignment</a></li>\n",
    "    </ul>\n",
    "       \n",
    "</div>"
   ]
  },
  {
   "cell_type": "markdown",
   "metadata": {},
   "source": [
    "<h3> <i>if-else</i> Statement</h3>\n",
    "<a id = \"if_else\"> </a>\n",
    "\n",
    "<p> The <b><i>if-else</i></b> is a decision structure that allows the program to decide on course of action based on the conditions whcih can be <b>True</b> or <b>False</b>. The general form of a <b><i>if-else</i></b> statement is:</p>\n",
    "\n",
    "<p><b> if <i>condition</i>:</b>\n",
    "<br><b>&nbsp;&nbsp;&nbsp;&nbsp;&nbsp;   <i>indented block of statements</i></b>\n",
    "<br><b>else: </b>    \n",
    "<br><b>&nbsp;&nbsp;&nbsp;&nbsp;&nbsp;   <i>indented block of statements</i></b>\n",
    "<br>\n",
    "</p>\n",
    "\n",
    "<p>where the fisrt <b>indented block</b> is executed when <b><i>condition</i></b> is <b>True</b> and the second <b>indented block</b> is executed when <b><i>condition</i></b> is <b>False</b>.</p>\n"
   ]
  },
  {
   "cell_type": "code",
   "execution_count": 1,
   "metadata": {
    "scrolled": true
   },
   "outputs": [
    {
     "name": "stdout",
     "output_type": "stream",
     "text": [
      "Enter the first number: 12\n",
      "Enter the second number: 32\n",
      "The large value is : 32.\n"
     ]
    }
   ],
   "source": [
    "# Get the numbers from the user\n",
    "num1 = eval(input(\"Enter the first number: \"))\n",
    "num2 = eval(input(\"Enter the second number: \"))\n",
    "# Determine the larger of two numbers\n",
    "if num1 > num2:\n",
    "    largeValue = num1    # execute if condition is True\n",
    "else:\n",
    "    largeValue = num2    # execute if condition is False\n",
    "print(\"The large value is :\", str(largeValue) + \".\")"
   ]
  },
  {
   "cell_type": "markdown",
   "metadata": {},
   "source": [
    "<h3> <i>if</i> Statement</h3>\n",
    "<a id = \"if\"> </a>\n",
    "\n",
    "<p> The <b><i>else</i></b> part of <b><i>if-else</i></b> statement can be ommitted. Therefore, the indented block is executed if <b><i>condition</i></b> is <b>True</b>, otherwise the program executes the next code line after <b><i>if</i></b> statement.</p>\n",
    "\n",
    "<p><b> if <i>condition</i>:</b>\n",
    "<br><b>&nbsp;&nbsp;&nbsp;&nbsp;&nbsp;   <i>indented block of statements</i></b>\n",
    "<br>\n",
    "</p>"
   ]
  },
  {
   "cell_type": "code",
   "execution_count": 4,
   "metadata": {},
   "outputs": [
    {
     "name": "stdout",
     "output_type": "stream",
     "text": [
      "Enter the first number: 35\n",
      "The number > 5 is : 35\n",
      "The end of program.\n"
     ]
    }
   ],
   "source": [
    "# Get the number from the user\n",
    "num = eval(input(\"Enter the first number: \"))\n",
    "# Print number > 5 \n",
    "if num > 5:\n",
    "    print(\"The number > 5 is :\", str(num))\n",
    "print(\"The end of program.\")"
   ]
  },
  {
   "cell_type": "markdown",
   "metadata": {},
   "source": [
    "<h3> Nested <i>if-else</i> Statement</h3>\n",
    "<a id = \"nif_else\"> </a>\n",
    "\n",
    "<p> The indented block of statements for <b><i>if</i></b> and <b><i>else</i></b> can also containe <b><i>if-else</i></b> statement. In that case we have <b>nested</b> <b><i>if-else</i></b> statement. The general form of nested <b><i>if-else</i></b> statement is:</p>\n",
    "\n",
    "<p><b> if <i>condition</i>:</b>\n",
    "<br><b>&nbsp;&nbsp;&nbsp;&nbsp;&nbsp;   <b> if <i>condition</i>:</b></b>\n",
    "<br><b>&nbsp;&nbsp;&nbsp;&nbsp;&nbsp;&nbsp;&nbsp;&nbsp;&nbsp;&nbsp;  <i>indented block of statements</i></b>\n",
    "<br><b>&nbsp;&nbsp;&nbsp;&nbsp;&nbsp;   <b> else:</b></b>\n",
    "<br><b>&nbsp;&nbsp;&nbsp;&nbsp;&nbsp;&nbsp;&nbsp;&nbsp;&nbsp;&nbsp;   <i>indented block of statements</i></b>\n",
    "<br><b>else: </b>    \n",
    "<br><b>&nbsp;&nbsp;&nbsp;&nbsp;&nbsp;   <b> if <i>condition</i>:</b></b>\n",
    "<br><b>&nbsp;&nbsp;&nbsp;&nbsp;&nbsp;&nbsp;&nbsp;&nbsp;&nbsp;&nbsp;  <i>indented block of statements</i></b>\n",
    "<br><b>&nbsp;&nbsp;&nbsp;&nbsp;&nbsp;   <b> else:</b></b>\n",
    "<br><b>&nbsp;&nbsp;&nbsp;&nbsp;&nbsp;&nbsp;&nbsp;&nbsp;&nbsp;&nbsp;   <i>indented block of statements</i></b>\n",
    "<br>\n",
    "</p>\n"
   ]
  },
  {
   "cell_type": "code",
   "execution_count": 15,
   "metadata": {},
   "outputs": [
    {
     "name": "stdout",
     "output_type": "stream",
     "text": [
      "Enter total cost: 1000\n",
      "Enter total revenue: 2500\n",
      "Profit is $1,500.00.\n"
     ]
    }
   ],
   "source": [
    "# Evaluate profit \n",
    "# Get user inputs\n",
    "costs = eval(input(\"Enter total cost: \"))\n",
    "revenue = eval(input(\"Enter total revenue: \"))\n",
    "# Determine and display profit or loss\n",
    "if costs == revenue:\n",
    "    result = \"Break even.\"\n",
    "else:\n",
    "    if costs < revenue:\n",
    "        profit = revenue - costs\n",
    "        result = \"Profit is ${0:,.2f}.\".format(profit)\n",
    "    else:\n",
    "        loss =  costs - revenue\n",
    "        result = \"Loss is ${0:,.2f}.\".format(loss)\n",
    "print(result)"
   ]
  },
  {
   "cell_type": "markdown",
   "metadata": {},
   "source": [
    "<h3> The <i>elif</i> Clause</h3>\n",
    "<a id = \"elif\"> </a>\n",
    "\n",
    "<p> The <b><i>if-else</i></b> statement provide two choices to follow. The number of choices can be extended to many ones with help of the <b><i>elif</i></b> clause (<b><i>elif</i></b> is an abbreviation fro \"else if\"). The general form of <b><i>elif</i></b> clause is:</p>\n",
    "\n",
    "<p><b> if <i>condition1</i>:</b>\n",
    "<br><b>&nbsp;&nbsp;&nbsp;&nbsp;&nbsp;   <i>indented block of statements to execute if condition1 is True</i></b>\n",
    "<br><b>elif <i>condition2</i>: </b>    \n",
    "<br><b>&nbsp;&nbsp;&nbsp;&nbsp;&nbsp;   <i>indented block of statements to execute if condition2 is True</i></b>\n",
    "<br><b>&nbsp;&nbsp;&nbsp;&nbsp;&nbsp;   <i>AND condition1 is not True</i></b>\n",
    "<br><b>elif <i>condition3</i>: </b>    \n",
    "<br><b>&nbsp;&nbsp;&nbsp;&nbsp;&nbsp;   <i>indented block of statements to execute if condition3 is True</i></b>\n",
    "<br><b>&nbsp;&nbsp;&nbsp;&nbsp;&nbsp;   <i>AND condition1 AND condition2 are not True</i></b>\n",
    "<br><b>else: </b>    \n",
    "<br><b>&nbsp;&nbsp;&nbsp;&nbsp;&nbsp;   <i>indented block of statements to execute if none of the above</i></b>\n",
    "<br><b>&nbsp;&nbsp;&nbsp;&nbsp;&nbsp;   <i>conditions are True</i></b>\n",
    "<br>\n",
    "</p>\n",
    "\n",
    "<p> There can be any number of <b><i>elif</i></b> clause and <b><i>else</i></b> clause is optional.\n",
    "</p>"
   ]
  },
  {
   "cell_type": "code",
   "execution_count": 7,
   "metadata": {
    "scrolled": true
   },
   "outputs": [
    {
     "name": "stdout",
     "output_type": "stream",
     "text": [
      "Enter a number from the menu to obtaine a fact\n",
      "about US or to exit the program.\n",
      "\n",
      "1. Capital\n",
      "2. National Bird\n",
      "3. Natinal Flower\n",
      "Make s selecton from the menu:2\n",
      "The American Bold Eagle\n"
     ]
    }
   ],
   "source": [
    "## Display facts about US\n",
    "print(\"Enter a number from the menu to obtaine a fact\")\n",
    "print(\"about US or to exit the program.\\n\")\n",
    "print(\"1. Capital\")\n",
    "print(\"2. National Bird\")\n",
    "print(\"3. Natinal Flower\")\n",
    "num = int(input(\"Make s selecton from the menu:\"))\n",
    "if num == 1:\n",
    "    print(\"Washington, DC is the capital of US\")\n",
    "elif num == 2:\n",
    "    print(\"The American Bold Eagle\")\n",
    "elif num == 3:\n",
    "    print(\"The Rose\")\n",
    "else:\n",
    "    print(\"The end of program\")"
   ]
  },
  {
   "cell_type": "code",
   "execution_count": 22,
   "metadata": {},
   "outputs": [
    {
     "name": "stdout",
     "output_type": "stream",
     "text": [
      "Enter fisrt number: one\n",
      "Enter second number: 2\n",
      "The first entry was not a proper number.\n"
     ]
    }
   ],
   "source": [
    "# Input validation with if-elif-else Statement\n",
    "# When youexpect to to work with the numbers in your program based from user input\n",
    "# then isdigit method would be agreat help \n",
    "\n",
    "## Request teo numbers and find their sum with validation of the inputs\n",
    "num1 = input(\"Enter fisrt number: \")\n",
    "num2 = input(\"Enter second number: \")\n",
    "# Display the sum if the numbers are valid or inform the user where invalid entries were made\n",
    "if num1.isdigit() and num2.isdigit():\n",
    "    print(\"The sum is \", str(eval(num1) + eval(num1)) + \".\")\n",
    "elif not num1.isdigit():\n",
    "    if not num2.isdigit():\n",
    "        print(\"Neither entry was a proper number.\")\n",
    "    else:\n",
    "        print(\"The first entry was not a proper number.\")\n",
    "else:\n",
    "    print(\"The second entry was not a proper number.\")"
   ]
  },
  {
   "cell_type": "markdown",
   "metadata": {},
   "source": [
    "<h3> Lab Assignment</h3>\n",
    "<a id =\"lab\"> </a>"
   ]
  },
  {
   "cell_type": "markdown",
   "metadata": {},
   "source": [
    "<p> Q1) Determine the output: </p>\n",
    "\n",
    "<p><b> gpa = 3.49</b>\n",
    "<br><b> result = \"\"</b>\n",
    "<br><b> if gpa >= 3.5:</b>\n",
    "<br><b>&nbsp;&nbsp;&nbsp;&nbsp;&nbsp; result = \"Honors\" </b>\n",
    "<br><b>print(result + \"Student\") </b>\n",
    "</p>"
   ]
  },
  {
   "cell_type": "code",
   "execution_count": null,
   "metadata": {},
   "outputs": [],
   "source": []
  },
  {
   "cell_type": "markdown",
   "metadata": {},
   "source": [
    "<p> Q2) Determine the output: </p>\n",
    "\n",
    "<p><b>print('A' < 'B' < 'c') </b></p>"
   ]
  },
  {
   "cell_type": "code",
   "execution_count": null,
   "metadata": {},
   "outputs": [],
   "source": []
  },
  {
   "cell_type": "markdown",
   "metadata": {},
   "source": [
    "<p> Q3) Determine the output: </p>\n",
    "\n",
    "<p><b> a = 5 </b>\n",
    "<br><b> if (a > 2) and ((a == 3) or (a < 7)):</b>\n",
    "<br><b>&nbsp;&nbsp;&nbsp;&nbsp;&nbsp; print(\"Hi\")</b>\n",
    "</p>"
   ]
  },
  {
   "cell_type": "code",
   "execution_count": null,
   "metadata": {},
   "outputs": [],
   "source": []
  },
  {
   "cell_type": "markdown",
   "metadata": {},
   "source": [
    "<p> Q4) Determine the output: </p>\n",
    "\n",
    "<p><b> a = 2 </b>\n",
    "<br><b> b = 3 </b>\n",
    "<br><b> c = 5 </b>\n",
    "<br><b> if (a * b) < c :</b>\n",
    "<br><b>&nbsp;&nbsp;&nbsp;&nbsp;&nbsp; b = 7 </b>\n",
    "<br><b> else: </b>\n",
    "<br><b>&nbsp;&nbsp;&nbsp;&nbsp;&nbsp; b = (c * a) </b>\n",
    "<br><b>print(b) </b>\n",
    "</p>"
   ]
  },
  {
   "cell_type": "code",
   "execution_count": null,
   "metadata": {},
   "outputs": [],
   "source": []
  },
  {
   "cell_type": "markdown",
   "metadata": {},
   "source": [
    "<p> Q5) Determine the output: </p>\n",
    "\n",
    "<p><b> num = 5 </b>\n",
    "<br><b> if num < 0 :</b>\n",
    "<br><b>&nbsp;&nbsp;&nbsp;&nbsp;&nbsp; print(\"negative\") </b>\n",
    "<br><b> else :</b>\n",
    "<br><b>&nbsp;&nbsp;&nbsp;&nbsp;&nbsp; if num == 0: </b>\n",
    "<br><b>&nbsp;&nbsp;&nbsp;&nbsp;&nbsp;&nbsp;&nbsp;&nbsp;&nbsp;&nbsp; print(\"zero\")</b>\n",
    "<br><b>&nbsp;&nbsp;&nbsp;&nbsp;&nbsp; else:</b>\n",
    "<br><b>&nbsp;&nbsp;&nbsp;&nbsp;&nbsp;&nbsp;&nbsp;&nbsp;&nbsp;&nbsp; print(\"positive\")</b>\n",
    "</p>"
   ]
  },
  {
   "cell_type": "code",
   "execution_count": null,
   "metadata": {},
   "outputs": [],
   "source": []
  },
  {
   "cell_type": "markdown",
   "metadata": {},
   "source": [
    "<p> Q6) Determine the output: </p>\n",
    "\n",
    "<br><b> if \"\":</b>\n",
    "<br><b>&nbsp;&nbsp;&nbsp;&nbsp;&nbsp; print(\"An empty string is True.\") </b>\n",
    "<br><b> else :</b>\n",
    "<br><b>&nbsp;&nbsp;&nbsp;&nbsp;&nbsp; print(\"An empty string is False.\") </b>\n",
    "</p>"
   ]
  },
  {
   "cell_type": "code",
   "execution_count": null,
   "metadata": {},
   "outputs": [],
   "source": []
  },
  {
   "cell_type": "markdown",
   "metadata": {},
   "source": [
    "<p> Q7) Determine the output: </p>\n",
    "\n",
    "<p><b> letter = input(\"Enter A, B, or C: \") </b>\n",
    "<br><b> letter = letter.upper() </b>\n",
    "<br><b> if letter == \"A\" :</b>\n",
    "<br><b>&nbsp;&nbsp;&nbsp;&nbsp;&nbsp; print(\"A, my name is Alice.\") </b>\n",
    "<br><b> elif letter == \"B\" :</b>\n",
    "<br><b>&nbsp;&nbsp;&nbsp;&nbsp;&nbsp; print(\"To be, or not tobe.\") </b>\n",
    "<br><b> elif letter == \"C\" :</b>\n",
    "<br><b>&nbsp;&nbsp;&nbsp;&nbsp;&nbsp; print(\"Oh, say, can you see.\") </b>\n",
    "<br><b> else:</b>\n",
    "<br><b>&nbsp;&nbsp;&nbsp;&nbsp;&nbsp; print(\"You did not enter correct letter.\") </b>\n",
    "</p>"
   ]
  },
  {
   "cell_type": "code",
   "execution_count": null,
   "metadata": {},
   "outputs": [],
   "source": []
  },
  {
   "cell_type": "markdown",
   "metadata": {},
   "source": [
    "<p> Q8) Identify and corect the error to determine the output: </p>\n",
    "\n",
    "<p><b> n = eval(input(\"Enter a number: \")) </b>\n",
    "<br><b> if n = 7:</b>\n",
    "<br><b>&nbsp;&nbsp;&nbsp;&nbsp;&nbsp; print(\"The Squere is\", n*2) </b>\n",
    "<br><b>&nbsp;&nbsp;&nbsp;&nbsp;&nbsp; print(\"The negative is \", -n) </b>\n",
    "</p>"
   ]
  },
  {
   "cell_type": "code",
   "execution_count": null,
   "metadata": {},
   "outputs": [],
   "source": []
  },
  {
   "cell_type": "markdown",
   "metadata": {},
   "source": [
    "<p> Q) Identify and corect the error to determine the output: </p>\n",
    "\n",
    "<p><b> num = 6 </b>\n",
    "<br><b> if num > 5 and < 9 :</b>\n",
    "<br><b>&nbsp;&nbsp;&nbsp;&nbsp;&nbsp; print(\"Yes\") </b>\n",
    "<br><b> else :</b>\n",
    "<br><b>&nbsp;&nbsp;&nbsp;&nbsp;&nbsp; print(\"No\") </b>\n",
    "</p>"
   ]
  },
  {
   "cell_type": "code",
   "execution_count": null,
   "metadata": {},
   "outputs": [],
   "source": []
  },
  {
   "cell_type": "markdown",
   "metadata": {},
   "source": [
    "<p> Q10) Simplify code </p>\n",
    "\n",
    "<p><b> if (a == 2) :</b>\n",
    "<br><b>&nbsp;&nbsp;&nbsp;&nbsp;&nbsp; a = 3 + a </b>\n",
    "<br><b> else : </b>\n",
    "<br><b>&nbsp;&nbsp;&nbsp;&nbsp;&nbsp; a  = 5 </b>\n",
    "</p>"
   ]
  },
  {
   "cell_type": "code",
   "execution_count": null,
   "metadata": {},
   "outputs": [],
   "source": []
  },
  {
   "cell_type": "markdown",
   "metadata": {},
   "source": [
    "<p> Q11) Simplify code </p>\n",
    "\n",
    "<p><b> if (j == 7) :</b>\n",
    "<br><b>&nbsp;&nbsp;&nbsp;&nbsp;&nbsp; b = 1 </b>\n",
    "<br><b> else : </b>\n",
    "<br><b>&nbsp;&nbsp;&nbsp;&nbsp;&nbsp; if (j != 7) :</b>\n",
    "<br><b>&nbsp;&nbsp;&nbsp;&nbsp;&nbsp;&nbsp;&nbsp;&nbsp;&nbsp;&nbsp; b =2</b>\n",
    "</p>"
   ]
  },
  {
   "cell_type": "code",
   "execution_count": null,
   "metadata": {},
   "outputs": [],
   "source": []
  },
  {
   "cell_type": "markdown",
   "metadata": {},
   "source": [
    "<p> Q12) Simplify code </p>\n",
    "\n",
    "<p><b> feet = eval(input(\"How tall (in feet) is the Statue of Liberty?\"))</b>\n",
    "<br><b> if feet <= 141: </b>\n",
    "<br><b>&nbsp;&nbsp;&nbsp;&nbsp;&nbsp; print(\"Nope\") </b>\n",
    "<br><b> if (feet > 141) : </b>\n",
    "<br><b>&nbsp;&nbsp;&nbsp;&nbsp;&nbsp; if (feet < 161) :</b>\n",
    "<br><b>&nbsp;&nbsp;&nbsp;&nbsp;&nbsp;&nbsp;&nbsp;&nbsp;&nbsp;&nbsp; print(\"Good\")</b>\n",
    "<br><b>&nbsp;&nbsp;&nbsp;&nbsp;&nbsp; else :</b>\n",
    "<br><b>&nbsp;&nbsp;&nbsp;&nbsp;&nbsp;&nbsp;&nbsp;&nbsp;&nbsp;&nbsp; print(\"Nope\")</b>\n",
    "<br><b> print(\"The statue is 151 feet tall from base to torch.\") </b>\n",
    "</p>"
   ]
  },
  {
   "cell_type": "code",
   "execution_count": null,
   "metadata": {},
   "outputs": [],
   "source": []
  }
 ],
 "metadata": {
  "kernelspec": {
   "display_name": "Python 3",
   "language": "python",
   "name": "python3"
  },
  "language_info": {
   "codemirror_mode": {
    "name": "ipython",
    "version": 3
   },
   "file_extension": ".py",
   "mimetype": "text/x-python",
   "name": "python",
   "nbconvert_exporter": "python",
   "pygments_lexer": "ipython3",
   "version": "3.7.4"
  }
 },
 "nbformat": 4,
 "nbformat_minor": 2
}
