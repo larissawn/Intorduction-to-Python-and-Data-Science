{
 "cells": [
  {
   "cell_type": "markdown",
   "metadata": {},
   "source": [
    "# Working with List"
   ]
  },
  {
   "cell_type": "markdown",
   "metadata": {},
   "source": [
    "<h3> Table of Content </h3>\n",
    "\n",
    "<div style=\"margin-top: 20px\">\n",
    "    <ul>\n",
    "        <li><a href=\"#list\">Lists</a>\n",
    "        <li><a href=\"#operation\">Operations on lists</a></li>\n",
    "        <li><a href=\"#indexing\">Indexing and slicing lists</a></li>\n",
    "        <li><a href=\"#split\">Split and join methods</a></li>\n",
    "        <li><a href=\"#copy\">Copy and clone lists</a></li>\n",
    "        <li><a href=\"#lab\">Practice Assignment</a></li>\n",
    "            </ul>\n",
    "       \n",
    "</div>"
   ]
  },
  {
   "cell_type": "markdown",
   "metadata": {},
   "source": [
    "<h3> Lists </h3>\n",
    "<a id=\"list\"></a>\n",
    "\n",
    "<p> Like a string, a list is a collection of user defined collection of primitive data objects. While a string is a sequence of characters, a list is a collection of any type of data (items). Items can be integers, float numbers, strings, lists, ...etc. </p>\n",
    "\n",
    "<p> To create a list, you enclose the elements in square brackets ( [ ] ). </p>\n",
    "<p> The cell below, shows some list initiation examples. </p>"
   ]
  },
  {
   "cell_type": "code",
   "execution_count": 1,
   "metadata": {},
   "outputs": [],
   "source": [
    "# Examples of list initiations\n",
    "\n",
    "ages = [12, 15, 18, 30] # example of initiation of a list of integers. \n",
    "\n",
    "names = ['John', 'Mary', 'Mike', 'Sonya'] # example of initiation of a list of strings\n",
    "\n",
    "passwords = ['password', 12345, 'admin'] # example of initiation of a list of multiple items (string and integer)"
   ]
  },
  {
   "cell_type": "markdown",
   "metadata": {},
   "source": [
    "<h3> Operations on lists </h3>\n",
    "<a id=\"operations\"></a>\n",
    "<p> Python pre-defined functions and methods that apply on lists. The cells follwing show examples of the functions and methods that you can use with lists. </p>"
   ]
  },
  {
   "cell_type": "code",
   "execution_count": 4,
   "metadata": {},
   "outputs": [
    {
     "name": "stdout",
     "output_type": "stream",
     "text": [
      "3\n"
     ]
    }
   ],
   "source": [
    "# The len() function: returns the number of the items in a list.\n",
    "passwords = ['password', 12345, 'admin']\n",
    "print(len(passwords)) #prints 3 since the list items includes 3 elements."
   ]
  },
  {
   "cell_type": "code",
   "execution_count": 7,
   "metadata": {},
   "outputs": [
    {
     "name": "stdout",
     "output_type": "stream",
     "text": [
      "30\n"
     ]
    }
   ],
   "source": [
    "# The max() function: returns the greatest item in a numbers list.\n",
    "ages = [12, 15, 18, 30]\n",
    "print(max(ages)) # returns 30"
   ]
  },
  {
   "cell_type": "code",
   "execution_count": 8,
   "metadata": {},
   "outputs": [
    {
     "name": "stdout",
     "output_type": "stream",
     "text": [
      "12\n"
     ]
    }
   ],
   "source": [
    "# The min() function: returns the least item in a numbers list.\n",
    "ages = [12, 15, 18, 30]\n",
    "print(min(ages)) # returns 12"
   ]
  },
  {
   "cell_type": "code",
   "execution_count": 10,
   "metadata": {},
   "outputs": [
    {
     "name": "stdout",
     "output_type": "stream",
     "text": [
      "19.8\n"
     ]
    }
   ],
   "source": [
    "# The sum() function: returns the sum of the items in a numbers list.\n",
    "cost_of_items= [1.2, 15, 3.6]\n",
    "print(sum(cost_of_items)) # Prints 19.8"
   ]
  },
  {
   "cell_type": "code",
   "execution_count": 11,
   "metadata": {},
   "outputs": [
    {
     "name": "stdout",
     "output_type": "stream",
     "text": [
      "2\n"
     ]
    }
   ],
   "source": [
    "# The count(x) method: returns the number of the instances of the item x.\n",
    "names = ['John', 'Mary', 'Mike', 'Sonya', 'Mary']\n",
    "print(names.count('Mary')) # prints 2"
   ]
  },
  {
   "cell_type": "code",
   "execution_count": 12,
   "metadata": {},
   "outputs": [
    {
     "name": "stdout",
     "output_type": "stream",
     "text": [
      "1\n"
     ]
    }
   ],
   "source": [
    "# The index(x) method: returns the index of the first instance of the item x.\n",
    "names = ['John', 'Mary', 'Mike', 'Sonya', 'Mary']\n",
    "print(names.index('Mary')) #prints (1) the position of the first instance of 'Mary'"
   ]
  },
  {
   "cell_type": "code",
   "execution_count": 15,
   "metadata": {},
   "outputs": [
    {
     "name": "stdout",
     "output_type": "stream",
     "text": [
      "['Mary', 'Sonya', 'Mike', 'Mary', 'John']\n"
     ]
    }
   ],
   "source": [
    "# The Reverse() method: reverses the items of an index\n",
    "names = ['John', 'Mary', 'Mike', 'Sonya', 'Mary']\n",
    "names.reverse() #Reverses the items in the list names\n",
    "print(names) #print the reversed ordered list"
   ]
  },
  {
   "cell_type": "code",
   "execution_count": 16,
   "metadata": {},
   "outputs": [
    {
     "name": "stdout",
     "output_type": "stream",
     "text": [
      "[]\n"
     ]
    }
   ],
   "source": [
    "# The clear() method: removes all items from a list\n",
    "names = ['John', 'Mary', 'Mike', 'Sonya', 'Mary']\n",
    "names.clear() #empty the list\n",
    "print(names) # prints [] an empty list"
   ]
  },
  {
   "cell_type": "code",
   "execution_count": 19,
   "metadata": {},
   "outputs": [
    {
     "name": "stdout",
     "output_type": "stream",
     "text": [
      "['John', 'Mary', 'Mike', 'Sonya', 'Moe']\n"
     ]
    }
   ],
   "source": [
    "# The append(x): appends the item x to the end of the list\n",
    "names = ['John', 'Mary', 'Mike', 'Sonya']\n",
    "names.append('Moe') #adds Moe to the end of the list\n",
    "print(names)"
   ]
  },
  {
   "cell_type": "code",
   "execution_count": 21,
   "metadata": {},
   "outputs": [
    {
     "name": "stdout",
     "output_type": "stream",
     "text": [
      "[1, 2, 3, 4, 5, 6]\n"
     ]
    }
   ],
   "source": [
    "# The extend(L2): appends items of the list L2 to the original list\n",
    "A = [1,2,3]\n",
    "B = [4,5,6]\n",
    "A.extend(B)\n",
    "print(A) #prints [1,2,3,4,5,6]"
   ]
  },
  {
   "cell_type": "code",
   "execution_count": 23,
   "metadata": {},
   "outputs": [
    {
     "name": "stdout",
     "output_type": "stream",
     "text": [
      "[1, 2, 17, 3, 4]\n"
     ]
    }
   ],
   "source": [
    "# The insert(m, i): inserts the item i in index m\n",
    "A=[1,2,3,4]\n",
    "A.insert(2,17) #adds the item 17 in the 3rd location\n",
    "print(A)"
   ]
  },
  {
   "cell_type": "code",
   "execution_count": 24,
   "metadata": {},
   "outputs": [
    {
     "name": "stdout",
     "output_type": "stream",
     "text": [
      "[1, 3, 4, 5, 2]\n"
     ]
    }
   ],
   "source": [
    "# The remove(i) method: removes the first instance of the item i in a list\n",
    "A = [1,2,3,4,5, 2]\n",
    "A.remove(2)\n",
    "print(A) # Prints [1,3,4,5,2]"
   ]
  },
  {
   "cell_type": "code",
   "execution_count": 25,
   "metadata": {},
   "outputs": [
    {
     "name": "stdout",
     "output_type": "stream",
     "text": [
      "['John', 'Mary', 'Sonya']\n"
     ]
    }
   ],
   "source": [
    "# The del command: remove an item from a list \n",
    "names = ['John', 'Mary', 'Mike', 'Sonya']\n",
    "del names[2] # removes the 3rd item from the list names\n",
    "print(names) # Prints ['John', 'Mary', 'Sonya']"
   ]
  },
  {
   "cell_type": "code",
   "execution_count": 27,
   "metadata": {},
   "outputs": [
    {
     "name": "stdout",
     "output_type": "stream",
     "text": [
      "[1, 2, 3, 4, 5, 6]\n"
     ]
    }
   ],
   "source": [
    "# List concatination (+)\n",
    "A = [1,2,3,4]\n",
    "B = [5,6]\n",
    "print(A+B) # concatinate the two lists. Returns [1,2,3,4,5,6]"
   ]
  },
  {
   "cell_type": "code",
   "execution_count": 29,
   "metadata": {},
   "outputs": [
    {
     "name": "stdout",
     "output_type": "stream",
     "text": [
      "[1, 2, 1, 2]\n"
     ]
    }
   ],
   "source": [
    "# List repetition (*)\n",
    "A = [1,2]\n",
    "print(A*2) # Repeats A two times. Returns [1,2,1,2]"
   ]
  },
  {
   "cell_type": "markdown",
   "metadata": {},
   "source": [
    "<h3> Indexing and Slicing lists </h3>\n",
    "<a id=\"indexing\"></a>\n",
    "\n",
    "<p> Items in a list a ordered (positioned) with positive and negative indices. </p>\n",
    "<p> For example: </p>\n",
    "\n",
    "| 'Mike' | 'Mary' | 'John' | 'Sonya' |\n",
    "|--------|--------|--------|---------|\n",
    "| 0      | 1      | 2      | 3       |\n",
    "| -4     | -3     | -2     | -1      |"
   ]
  },
  {
   "cell_type": "code",
   "execution_count": null,
   "metadata": {},
   "outputs": [],
   "source": []
  },
  {
   "cell_type": "code",
   "execution_count": 34,
   "metadata": {},
   "outputs": [
    {
     "name": "stdout",
     "output_type": "stream",
     "text": [
      "['Mary', 'John']\n",
      "['Mike', 'Mary']\n"
     ]
    }
   ],
   "source": [
    "# You can also slice a list and return a sublist\n",
    "names = ['Mike', 'Mary', 'John', 'Sonya']\n",
    "print(names[-3:-1]) #prints the sublist ['Mary', 'John']\n",
    "print(names[:2]) #prints the sublist ['Mike', 'Mary']"
   ]
  },
  {
   "cell_type": "markdown",
   "metadata": {},
   "source": [
    "<h3> Split and Join methods </h3>\n",
    "<a id=\"split\"></a>\n",
    "\n",
    "<p> split('s') method breaks a string into a list of items based on the seperator 's'. </p> "
   ]
  },
  {
   "cell_type": "code",
   "execution_count": 36,
   "metadata": {},
   "outputs": [
    {
     "name": "stdout",
     "output_type": "stream",
     "text": [
      "['Hello', 'World!']\n"
     ]
    }
   ],
   "source": [
    "# Example of split('s') method\n",
    "\n",
    "str1 = \"Hello World!\"\n",
    "L1 = str1.split(' ') # Generates a list L1. The items are identified based on the space (' ') seperator\n",
    "print(L1) # returns ['Hello', 'World!']"
   ]
  },
  {
   "cell_type": "code",
   "execution_count": 39,
   "metadata": {},
   "outputs": [
    {
     "name": "stdout",
     "output_type": "stream",
     "text": [
      "Hello World\n"
     ]
    }
   ],
   "source": [
    "# Example of the join method\n",
    "\n",
    "List1 = ['Hello', 'World']\n",
    "str1 = ' '.join(List1) #joins the items of the list List1 into a string. The seperator between the items is the space (' ')\n",
    "print(str1)"
   ]
  },
  {
   "cell_type": "markdown",
   "metadata": {},
   "source": [
    "<h3> Copy and clone lists </h3>\n",
    "<a id=\"copy\"></a>\n",
    "\n",
    "<p> Python copies lists in two ways: </p>\n",
    "<ol> \n",
    "    <li> By Reference </li>\n",
    "    <li> By Value </li>\n",
    "</ol>\n",
    "\n",
    "<p> Copying a list by reference is used to create a new reference to the list's location in the memory, instead of creating a new list. Any operation performed on any of the lists (the original or the copied one) will reflect on the other copy.</p>\n",
    "<p> Copying a list by value (also referred as clonning) is used to create a new list object, in a new memory location, that consists of the same items of the copied list. Any alterations on any of the lists, will not affect the other one. </p>"
   ]
  },
  {
   "cell_type": "code",
   "execution_count": 43,
   "metadata": {},
   "outputs": [
    {
     "name": "stdout",
     "output_type": "stream",
     "text": [
      "[1, 2, 3, 4]\n",
      "[1, 2, 3, 4]\n",
      "[1, 2, 3, 4, 5]\n",
      "[1, 2, 3, 4, 5]\n",
      "[1, 2, 3, 4, 5, 6]\n",
      "[1, 2, 3, 4, 5, 6]\n"
     ]
    }
   ],
   "source": [
    "#Copying a list by reference example\n",
    "A = [1,2,3,4]\n",
    "B = A # creating a reference to the memory location in which list A exists\n",
    "print(A) # prints [1,2,3,4]\n",
    "print(B) # prints [1,2,3,4]\n",
    "B.append(5) # adds the value 5 to the end of list B\n",
    "print(B) # prints [1,2,3,4,5]\n",
    "print(A) # prints [1,2,3,4,5] . The change on list B is reflected on list A\n",
    "A.append(6) # adds the value 6 to the end of list A\n",
    "print(A) #prints [1,2,3,4,5,6]\n",
    "print(B) #prints [1,2,3,4,5,6]"
   ]
  },
  {
   "cell_type": "code",
   "execution_count": 45,
   "metadata": {},
   "outputs": [
    {
     "name": "stdout",
     "output_type": "stream",
     "text": [
      "[1, 2, 3, 4]\n",
      "[1, 2, 3, 4]\n",
      "[1, 2, 3, 4]\n",
      "[1, 2, 3, 4, 5]\n",
      "[1, 2, 3, 4, 6]\n",
      "[1, 2, 3, 4, 5]\n"
     ]
    }
   ],
   "source": [
    "# Example of clonning \n",
    "A = [1,2,3,4]\n",
    "B = A[:] # creates a new list B by slicing, with a new memory location, that has the same values of A\n",
    "# B = A.copy() # using copy() method to create new list B\n",
    "print(A) # prints [1,2,3,4]\n",
    "print(B) # prints [1,2,3,4]\n",
    "B.append(5)\n",
    "print(A) # prints [1,2,3,4]\n",
    "print(B) # prints [1,2,3,4,5]\n",
    "A.append(6)\n",
    "print(A) # prints [1,2,3,4,6]\n",
    "print(B) # prints [1,2,3,4,5]"
   ]
  },
  {
   "cell_type": "markdown",
   "metadata": {},
   "source": [
    "<h3> Practice</h3>\n",
    "<a id =\"lab\"> </a>"
   ]
  },
  {
   "cell_type": "markdown",
   "metadata": {},
   "source": [
    "<p> Q1) Create the states list that includes the following States: Delaware, Pennsylvania, New Jersey, Georgia, Connecticut, Massachusetts, Uta, Oklahoma, New Mexico, Arizona, Alaska, Hawaii. </p>\n",
    "\n",
    "<p> print(states[1], states[-1]) </p>\n",
    "<p> print(states[0], states[-3]) </p>\n",
    "<p> print(len(states)) </p>\n",
    "<p> print(states.index(\"Alaska\")) </p>\n",
    "<p> print(states.index(states[8])) </p>\n",
    "<p> print(states[states.index(\"Pennsylvania\")]) </p>\n",
    "<p> states.append(\"Puerto Rico\") print(states[-1]) </p>\n",
    "<p> del states.[-1] print(states[-1]) </p>\n",
    "<p> print(states[2:5])</p>\n",
    "<p> print(states[:6])</p>\n",
    "<p> print(states[-3:])</p>\n",
    "<p> print(states[1:8][2])</p>\n",
    "<p> print(states[1:3][-2])</p>\n",
    "<p> print(len(states[-2:2]))</p>\n",
    "<p> states.extend([\"Puerto Rico\",\" Guam\"]) print(states[-3:])</p>\n",
    "<p> states.append([\"Puerto Rico\",\" Guam\"]) print(states[-3:])</p>\n",
    "<p> states += [\"Puerto Rico\",\" Guam\"] print(states[-3:])</p>\n",
    "<p> print( (',').join(states[1:4]))</p>"
   ]
  },
  {
   "cell_type": "markdown",
   "metadata": {},
   "source": [
    "<p> Q2) Create the list nums = [6,2,8,0] </p>\n",
    "\n",
    "<p> print(\"Largest Number :\", max(nums)) </p>\n",
    "<p> print(\"Length :\", len(nums)) </p>\n",
    "<p> print(\"Total :\", sum(nums)) </p>\n",
    "<p> print(\"Number lot :\", sum(nums)/list(nums)) </p>"
   ]
  },
  {
   "cell_type": "markdown",
   "metadata": {},
   "source": [
    "<p> Q3) </p>\n",
    "\n",
    "<p> L = [\"one\", \"for\", \"all\"] </p>\n",
    "<p> L[0], L[-1] = L[-1], L[0]  </p>\n",
    "<p> print(L) </p>"
   ]
  },
  {
   "cell_type": "markdown",
   "metadata": {},
   "source": [
    "<p> Q4) </p>\n",
    "\n",
    "<p> nations = \"France\\nEngland\\nSpain\\n\" </p>\n",
    "<p> countries = nations.split()  </p>\n",
    "<p> print(countries) </p>"
   ]
  },
  {
   "cell_type": "markdown",
   "metadata": {},
   "source": [
    "<p> Q5) </p>\n",
    "\n",
    "<p> allDay = \"around-the-clock\" </p>\n",
    "<p> print(allDay.split('-')) </p>"
   ]
  },
  {
   "cell_type": "markdown",
   "metadata": {},
   "source": [
    "<p> Q6) </p>\n",
    "\n",
    "<p> nums = (3, 9, 6) </p>\n",
    "<p> print(list(nums)) </p>"
   ]
  },
  {
   "cell_type": "markdown",
   "metadata": {},
   "source": [
    "<p> Q7) </p>\n",
    "\n",
    "<p> nums = [3, 9, 6] </p>\n",
    "<p> print(tuple(nums)) </p>"
   ]
  },
  {
   "cell_type": "markdown",
   "metadata": {},
   "source": [
    "<p> Q8) </p>\n",
    "\n",
    "<p> list1 = [\"mur\"]*2 </p>\n",
    "<p> print(\"\".join(list1)) </p>"
   ]
  },
  {
   "cell_type": "markdown",
   "metadata": {},
   "source": [
    "<p> Q9) </p>\n",
    "\n",
    "<p> list1 = [0] </p>\n",
    "<p> print(list1*4) </p>"
   ]
  },
  {
   "cell_type": "markdown",
   "metadata": {},
   "source": [
    "<p> Q10) </p>\n",
    "\n",
    "<p> numbers = [3,5,7,7,3] </p>\n",
    "<p> location = numbers.index(7) </p>\n",
    "<p> print(location) </p>"
   ]
  },
  {
   "cell_type": "markdown",
   "metadata": {},
   "source": [
    "<p> Q11) </p>\n",
    "\n",
    "<p> answer = [\"Yes\", \"No\",\"Yes\", \"No\", \"Maybe\"] </p>\n",
    "<p> loc = answer.index(\"No\") </p>\n",
    "<p> print(location) </p>"
   ]
  },
  {
   "cell_type": "code",
   "execution_count": null,
   "metadata": {},
   "outputs": [],
   "source": []
  }
 ],
 "metadata": {
  "kernelspec": {
   "display_name": "Python 3",
   "language": "python",
   "name": "python3"
  },
  "language_info": {
   "codemirror_mode": {
    "name": "ipython",
    "version": 3
   },
   "file_extension": ".py",
   "mimetype": "text/x-python",
   "name": "python",
   "nbconvert_exporter": "python",
   "pygments_lexer": "ipython3",
   "version": "3.7.4"
  }
 },
 "nbformat": 4,
 "nbformat_minor": 2
}
