{
 "cells": [
  {
   "cell_type": "markdown",
   "metadata": {},
   "source": [
    "# Working with Sets"
   ]
  },
  {
   "cell_type": "markdown",
   "metadata": {},
   "source": [
    "<h3> Table of Contents </h3>\n",
    "\n",
    "<div style=\"margin-top: 20px\">\n",
    "    <ul>\n",
    "        <li><a href=\"#sets\">Sets</a>\n",
    "        <li><a href=\"#function\">Sets functions and methods</a></li>\n",
    "        <li><a href=\"#lab\">Lab Assignment</a></li>\n",
    "            </ul>\n",
    "       \n",
    "</div>"
   ]
  },
  {
   "cell_type": "markdown",
   "metadata": {},
   "source": [
    "<h3> Sets </h3>\n",
    "<a id=\"sets\"></a>\n",
    "\n",
    "<p> Python sets are collection of <b>unique</b> elements. Sets are used for removing duplicates from a sequence or for computing the math operations that applies on sets (union, intersection, difference, and symmetric difference). </p> \n",
    "\n",
    "<p> Unlike strings, lists, and tuples, sets are <b> unordered </b>. i.e. the item's positions in sets are <b> not indexed</b>. </p>\n",
    "<p>To create set we using <b>{  }</b> and list items of the set inside them </p>"
   ]
  },
  {
   "cell_type": "code",
   "execution_count": 1,
   "metadata": {},
   "outputs": [
    {
     "name": "stdout",
     "output_type": "stream",
     "text": [
      "{1, 2, 3, 4, 5}\n",
      "<class 'set'>\n"
     ]
    }
   ],
   "source": [
    "# Example of creating sets using {}\n",
    "set1 = {1,2,3,4,5,5,5}\n",
    "print(set1)           # prints {1,2,3,4,5}. It removes the repeated items.\n",
    "print(type(set1))     # print set data type"
   ]
  },
  {
   "cell_type": "code",
   "execution_count": 3,
   "metadata": {},
   "outputs": [
    {
     "name": "stdout",
     "output_type": "stream",
     "text": [
      "{1, 2, 3, 4, 5}\n",
      "<class 'set'>\n"
     ]
    }
   ],
   "source": [
    "# Example of casting a list to a set\n",
    "L1 = [1,2,2,2,2,2,3,3,3,3,3,4,5]    # list\n",
    "set1 = set(L1)      # changes the list L1 to set set1. \n",
    "print(set1)         # prints {1,2,3,4,5}\n",
    "print(type(set1))   # print set data type"
   ]
  },
  {
   "cell_type": "markdown",
   "metadata": {},
   "source": [
    "<h3> Sets functions and methods </h3>\n",
    "<a id=\"function\"></a>\n",
    "<p> Sets have predefined functions and methods that are illustrated with examples in the cells below. </p>"
   ]
  },
  {
   "cell_type": "code",
   "execution_count": 67,
   "metadata": {},
   "outputs": [
    {
     "name": "stdout",
     "output_type": "stream",
     "text": [
      "{1, 2, 3, 4, 7}\n"
     ]
    }
   ],
   "source": [
    "# add() method in sets: adds an item to the end of a set\n",
    "set1 = {1,2,3,4}\n",
    "set1.add(7)\n",
    "print(set1)"
   ]
  },
  {
   "cell_type": "code",
   "execution_count": 68,
   "metadata": {},
   "outputs": [
    {
     "name": "stdout",
     "output_type": "stream",
     "text": [
      "set()\n"
     ]
    }
   ],
   "source": [
    "# clear() method in sets: remove all items from a set\n",
    "set1 = {1,2,3,4}\n",
    "set1.clear()\n",
    "print(set1) #prints an empty set"
   ]
  },
  {
   "cell_type": "code",
   "execution_count": 69,
   "metadata": {},
   "outputs": [
    {
     "name": "stdout",
     "output_type": "stream",
     "text": [
      "<class 'set'>\n",
      "{1, 2, 3, 4}\n"
     ]
    }
   ],
   "source": [
    "# copy() method in sets: copies the items of a set into a new one\n",
    "# Copy by value and not be reference \n",
    "set1 = {1,2,3,4}\n",
    "set2 = set1.copy() # copy set1 into set2 by value\n",
    "print(set2)        # prints {1,2,3,4}\n",
    "print(type(set2))  # returns a set"
   ]
  },
  {
   "cell_type": "code",
   "execution_count": 71,
   "metadata": {},
   "outputs": [
    {
     "name": "stdout",
     "output_type": "stream",
     "text": [
      "{1, 4}\n"
     ]
    }
   ],
   "source": [
    "# difference() method in sets: returns a set which contain the difference with other sets\n",
    "set1 = {1,2,3,4}\n",
    "set2 = {2,3,5}\n",
    "set3 = set1.difference(set2) #items 1 and 4 are not in set2. So set3 = {1,4}\n",
    "print(set3)"
   ]
  },
  {
   "cell_type": "code",
   "execution_count": 73,
   "metadata": {},
   "outputs": [
    {
     "name": "stdout",
     "output_type": "stream",
     "text": [
      "{1, 4}\n"
     ]
    }
   ],
   "source": [
    "#difference_update() method: removes all items from a set that exist in another defined set\n",
    "set1 = {1,2,3,4}\n",
    "set2 = {2,3,5}\n",
    "set1.difference_update(set2) # updates set1 by removing 2 and 3 since they are in set2. \n",
    "print(set1)"
   ]
  },
  {
   "cell_type": "code",
   "execution_count": 75,
   "metadata": {},
   "outputs": [
    {
     "name": "stdout",
     "output_type": "stream",
     "text": [
      "{1, 3, 4, 5}\n"
     ]
    }
   ],
   "source": [
    "#discard(i) method in sets: removes specified item i from the set.\n",
    "set1 = {1,2,3,4,5}\n",
    "set1.discard(2)\n",
    "print(set1) #prints {1,3,4,5}"
   ]
  },
  {
   "cell_type": "markdown",
   "metadata": {},
   "source": [
    "<p> If the item specified does not exist in the set, Python does not action and throws no error. </p>"
   ]
  },
  {
   "cell_type": "code",
   "execution_count": 76,
   "metadata": {},
   "outputs": [
    {
     "name": "stdout",
     "output_type": "stream",
     "text": [
      "{1, 2, 3, 4, 5}\n"
     ]
    }
   ],
   "source": [
    "#Example of discard with an item that does not exist in the set\n",
    "set1 = {1,2,3,4,5}\n",
    "set1.discard(8)\n",
    "print(set1)"
   ]
  },
  {
   "cell_type": "code",
   "execution_count": 78,
   "metadata": {},
   "outputs": [
    {
     "name": "stdout",
     "output_type": "stream",
     "text": [
      "{2, 4}\n"
     ]
    }
   ],
   "source": [
    "# intersection() method: returns a set that is the intersection of two specified sets\n",
    "set1={1,2,3,4}\n",
    "set2 = {2,4,8}\n",
    "set3 = set1.intersection(set2)\n",
    "print(set3)     #print {2,4}\n"
   ]
  },
  {
   "cell_type": "code",
   "execution_count": 4,
   "metadata": {},
   "outputs": [
    {
     "name": "stdout",
     "output_type": "stream",
     "text": [
      "{2, 4}\n"
     ]
    }
   ],
   "source": [
    "# The intersection_update(S) method in sets: removes items from a list that does not exit in Set S.\n",
    "# The intersection_update() method is different from the intersection() method, \n",
    "# because the intersection() method returns a new set, without the unwanted items,\n",
    "# and the intersection_update() method removes the unwanted items from the original set.\n",
    "set1 = {1,2,3,4}\n",
    "set2 = {2,4,8}\n",
    "set1.intersection_update(set2)\n",
    "print(set1) #print {2,3}"
   ]
  },
  {
   "cell_type": "code",
   "execution_count": 80,
   "metadata": {},
   "outputs": [
    {
     "data": {
      "text/plain": [
       "True"
      ]
     },
     "execution_count": 80,
     "metadata": {},
     "output_type": "execute_result"
    }
   ],
   "source": [
    "# The isdisjoint(S) method: boolean function that returns whether two sets intersect or not. True if the sets do not intersect\n",
    "set1 = {1,2,3,4,5}\n",
    "set2 = {7,8,9}\n",
    "set1.isdisjoint(set2)"
   ]
  },
  {
   "cell_type": "code",
   "execution_count": 81,
   "metadata": {},
   "outputs": [
    {
     "data": {
      "text/plain": [
       "True"
      ]
     },
     "execution_count": 81,
     "metadata": {},
     "output_type": "execute_result"
    }
   ],
   "source": [
    "# The issubset() method: returns whether a set is a subset of another set.\n",
    "set1 = {1,2}\n",
    "set2 = {1,2, 3,4,5}\n",
    "set1.issubset(set2)"
   ]
  },
  {
   "cell_type": "code",
   "execution_count": 82,
   "metadata": {},
   "outputs": [
    {
     "data": {
      "text/plain": [
       "True"
      ]
     },
     "execution_count": 82,
     "metadata": {},
     "output_type": "execute_result"
    }
   ],
   "source": [
    "# The issuperset() method: tests whether a set is a superset of another specified set.\n",
    "set1 = {1,2}\n",
    "set2 = {1,2,3,4,5,6}\n",
    "set2.issuperset(set1)"
   ]
  },
  {
   "cell_type": "code",
   "execution_count": 84,
   "metadata": {},
   "outputs": [
    {
     "name": "stdout",
     "output_type": "stream",
     "text": [
      "{2, 3, 7, 8}\n"
     ]
    }
   ],
   "source": [
    "# The pop() method: removes a random element from a set. You cannot specify this element with pop.\n",
    "set1 = {1,2,3,7,8}\n",
    "set1.pop()\n",
    "print(set1)"
   ]
  },
  {
   "cell_type": "code",
   "execution_count": 85,
   "metadata": {},
   "outputs": [
    {
     "name": "stdout",
     "output_type": "stream",
     "text": [
      "{1, 2, 4}\n"
     ]
    }
   ],
   "source": [
    "# The remove() method: removes a specific element from a set. \n",
    "set1 = {1,2,3,4}\n",
    "set1.remove(3)\n",
    "print(set1)"
   ]
  },
  {
   "cell_type": "markdown",
   "metadata": {},
   "source": [
    "<p> If the element does not exist, Python throws an error. </p>"
   ]
  },
  {
   "cell_type": "code",
   "execution_count": 86,
   "metadata": {},
   "outputs": [
    {
     "ename": "KeyError",
     "evalue": "8",
     "output_type": "error",
     "traceback": [
      "\u001b[0;31m---------------------------------------------------------------------------\u001b[0m",
      "\u001b[0;31mKeyError\u001b[0m                                  Traceback (most recent call last)",
      "\u001b[0;32m<ipython-input-86-4ab9b26b4fd2>\u001b[0m in \u001b[0;36m<module>\u001b[0;34m()\u001b[0m\n\u001b[1;32m      1\u001b[0m \u001b[0mset1\u001b[0m \u001b[0;34m=\u001b[0m \u001b[0;34m{\u001b[0m\u001b[0;36m1\u001b[0m\u001b[0;34m,\u001b[0m\u001b[0;36m2\u001b[0m\u001b[0;34m,\u001b[0m\u001b[0;36m3\u001b[0m\u001b[0;34m,\u001b[0m\u001b[0;36m4\u001b[0m\u001b[0;34m}\u001b[0m\u001b[0;34m\u001b[0m\u001b[0;34m\u001b[0m\u001b[0m\n\u001b[0;32m----> 2\u001b[0;31m \u001b[0mset1\u001b[0m\u001b[0;34m.\u001b[0m\u001b[0mremove\u001b[0m\u001b[0;34m(\u001b[0m\u001b[0;36m8\u001b[0m\u001b[0;34m)\u001b[0m\u001b[0;34m\u001b[0m\u001b[0;34m\u001b[0m\u001b[0m\n\u001b[0m",
      "\u001b[0;31mKeyError\u001b[0m: 8"
     ]
    }
   ],
   "source": [
    "set1 = {1,2,3,4}\n",
    "set1.remove(8)"
   ]
  },
  {
   "cell_type": "code",
   "execution_count": 87,
   "metadata": {},
   "outputs": [
    {
     "name": "stdout",
     "output_type": "stream",
     "text": [
      "{1, 4, 7, 8, 9}\n"
     ]
    }
   ],
   "source": [
    "# The symmetric_difference(): Returns a set with the symmetric differences of two sets\n",
    "set1 = {1,2,3,4,8}\n",
    "set2= {2,3,7,9}\n",
    "set3 = set1.symmetric_difference(set2)\n",
    "print(set3)"
   ]
  },
  {
   "cell_type": "code",
   "execution_count": 89,
   "metadata": {},
   "outputs": [
    {
     "name": "stdout",
     "output_type": "stream",
     "text": [
      "{1, 4, 7, 8, 9}\n"
     ]
    }
   ],
   "source": [
    "# The symmetric_difference_update (): updates a set by removing the items that exist in another set\n",
    "set1 = {1,2,3,4,8}\n",
    "set2= {2,3,7,9}\n",
    "set1.symmetric_difference_update(set2)\n",
    "print(set1)"
   ]
  },
  {
   "cell_type": "code",
   "execution_count": 90,
   "metadata": {},
   "outputs": [
    {
     "name": "stdout",
     "output_type": "stream",
     "text": [
      "{1, 2, 3, 4}\n"
     ]
    }
   ],
   "source": [
    "# The union() method: returns a set that contains the union of two sets\n",
    "set1 = {1,2,3}\n",
    "set2 = {2,3,4}\n",
    "set3= set1.union(set2)\n",
    "print(set3)"
   ]
  },
  {
   "cell_type": "code",
   "execution_count": 91,
   "metadata": {},
   "outputs": [
    {
     "name": "stdout",
     "output_type": "stream",
     "text": [
      "{1, 2, 3, 4, 5, 8}\n"
     ]
    }
   ],
   "source": [
    "# The update() method: updates a set by adding the union of this set and another set\n",
    "set1 = {1,2,3,4}\n",
    "set2 = {5,4,8}\n",
    "set1.update(set2)\n",
    "print(set1)"
   ]
  },
  {
   "cell_type": "markdown",
   "metadata": {},
   "source": [
    "<h3> Lab Assignment </h3>\n",
    "<a id=\"lab\"></a>"
   ]
  },
  {
   "cell_type": "markdown",
   "metadata": {},
   "source": [
    "<p> Q1) Write a program that creates a set (named numbers), that includes the numbers 1,2,3,4,5. </p>"
   ]
  },
  {
   "cell_type": "code",
   "execution_count": null,
   "metadata": {},
   "outputs": [],
   "source": []
  },
  {
   "cell_type": "markdown",
   "metadata": {},
   "source": [
    "<p> Q2) Write a program the adds the integers [6,7,8] from a list named list1 to the set numbers. </p>"
   ]
  },
  {
   "cell_type": "code",
   "execution_count": null,
   "metadata": {},
   "outputs": [],
   "source": []
  },
  {
   "cell_type": "markdown",
   "metadata": {},
   "source": [
    "<p> Q3) Write a program that displays the union and the intersection between the following two sets: <br>\n",
    "    set1 -> {1,2,3,4,5} <br>\n",
    "    set2 -> {2,3,8,10} </p>"
   ]
  },
  {
   "cell_type": "code",
   "execution_count": null,
   "metadata": {},
   "outputs": [],
   "source": []
  },
  {
   "cell_type": "markdown",
   "metadata": {},
   "source": [
    "<p> Q4) Write a program to display if set1 is a subset of set2.</p>"
   ]
  },
  {
   "cell_type": "code",
   "execution_count": null,
   "metadata": {},
   "outputs": [],
   "source": []
  }
 ],
 "metadata": {
  "kernelspec": {
   "display_name": "Python 3",
   "language": "python",
   "name": "python3"
  },
  "language_info": {
   "codemirror_mode": {
    "name": "ipython",
    "version": 3
   },
   "file_extension": ".py",
   "mimetype": "text/x-python",
   "name": "python",
   "nbconvert_exporter": "python",
   "pygments_lexer": "ipython3",
   "version": "3.7.4"
  }
 },
 "nbformat": 4,
 "nbformat_minor": 2
}
