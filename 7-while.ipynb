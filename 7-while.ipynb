{
 "cells": [
  {
   "cell_type": "markdown",
   "metadata": {},
   "source": [
    "# Working with <i>while</i> Statement"
   ]
  },
  {
   "cell_type": "markdown",
   "metadata": {},
   "source": [
    "## Table of Content"
   ]
  },
  {
   "cell_type": "markdown",
   "metadata": {},
   "source": [
    "<div style=\"margin-top: 20px\">\n",
    "    <ul>\n",
    "        <li><a href=\"#whileLoop\"> <i>while</i> Loop Definition</a>\n",
    "        <li><a href=\"#break\">The <i>break</i> Statement</a></li>\n",
    "        <li><a href=\"#continue\">The <i>continue</i> Statement</a></li>\n",
    "        <li><a href=\"#menu\">Creating Menue</a></li>\n",
    "        <li><a href=\"#iloop\">Infinite Loops</a></li>\n",
    "        <li><a href=\"#lab\">Lab Assignment</a></li>\n",
    "    </ul>\n",
    "       \n",
    "</div>"
   ]
  },
  {
   "cell_type": "markdown",
   "metadata": {},
   "source": [
    "<h3> <i>while</i> Loop </h3>\n",
    "<a id = \"whileLoop\"> </a>\n",
    "\n",
    "<p> The <b>while</b> loop is a part of Control Flow structures. It repeatedly execute an indented block of statemnt as long as the defined <i>condition</i> is met. The general form of a while loop is:</p>\n",
    "<p><b> while <i>condition</i>:</b>\n",
    "<br><b>&nbsp;&nbsp;&nbsp;&nbsp;&nbsp;   <i>indented block of statements</i>  </b></p>\n",
    "\n",
    "<p>where <b><i>condition</i></b> is <b> continuation condition</b> of the loop and <b><i>indented block of statements</i>  </b> is called as <b>body</b> of te loop and each executuon of te body is called <b>pass</b> through the loop.</p>\n",
    "<p>The continuation condition is the Boolean expression that takes <b>True</b> or <b>False</b> values. Before the while loop starts, the Python interpreter evaluete the continuation condition and if it is <b>True</b> the loop body is executed. If the continuation condition is <b>False</b> the loop body is not executed and program moves to the next code line. After each loop body execution, the continuation condition is checked again and executed as long as it <b>True</b>. Physical indentation instructs python interpreter where block starts and stops in the <b>while</b> loop.</p>\n"
   ]
  },
  {
   "cell_type": "code",
   "execution_count": 1,
   "metadata": {
    "scrolled": true
   },
   "outputs": [
    {
     "name": "stdout",
     "output_type": "stream",
     "text": [
      "1\n",
      "2\n",
      "3\n",
      "4\n",
      "5\n"
     ]
    }
   ],
   "source": [
    "# Display numbers from 1 to 5\n",
    "num = 1 \n",
    "while num <= 5:\n",
    "    print(num)\n",
    "    num += 1   # increase num value by 1\n",
    "\n",
    "# after the loop executed num = 6 "
   ]
  },
  {
   "cell_type": "code",
   "execution_count": 6,
   "metadata": {},
   "outputs": [
    {
     "name": "stdout",
     "output_type": "stream",
     "text": [
      "Find the min, max, and average of a sequence of numbers.\n",
      "Enter -1 to terminate entering numbers.\n",
      "Enter a nonnegative number:1\n",
      "Enter a nonnegative number:3\n",
      "Enter a nonnegative number:54\n",
      "Enter a nonnegative number:45\n",
      "Enter a nonnegative number:23\n",
      "Enter a nonnegative number:-1\n",
      "Min:  1\n",
      "Max:  1\n",
      "Average:  25.2\n"
     ]
    }
   ],
   "source": [
    "## Find the min, max, and average of a sequence of numbers\n",
    "count = 0 # count of nonnegative numbers inout\n",
    "total = 0 # sum of nonnegative numbers inout\n",
    "# Get the numbers and deterine min, max, and count \n",
    "print(\"Find the min, max, and average of a sequence of numbers.\")\n",
    "print(\"Enter -1 to terminate entering numbers.\")\n",
    "\n",
    "num = eval(input(\"Enter a nonnegative number:\"))\n",
    "min = num\n",
    "max = num\n",
    "while num != -1:\n",
    "    count += 1\n",
    "    total += num\n",
    "    if num < min:\n",
    "        min = num\n",
    "    if num < max:\n",
    "        max = num\n",
    "    num = eval(input(\"Enter a nonnegative number:\"))\n",
    "\n",
    "# Display Result\n",
    "if count > 0:\n",
    "    print(\"Min: \", min)\n",
    "    print(\"Max: \", max)\n",
    "    print(\"Average: \", total/count)\n",
    "else:\n",
    "    print(\"No nonnegative numbers were entered.\")"
   ]
  },
  {
   "cell_type": "markdown",
   "metadata": {},
   "source": [
    "<h3> The <i>break</i> Statement </h3>\n",
    "<a id = \"break\"> </a>\n",
    "\n",
    "<p> The <b>break</b> statement interapts a loop execution from any location inside the loop body. The <b> break </b> statement usually apears inside of <b>if</b> statement of the loop body: </p>"
   ]
  },
  {
   "cell_type": "code",
   "execution_count": 3,
   "metadata": {},
   "outputs": [
    {
     "name": "stdout",
     "output_type": "stream",
     "text": [
      "(Enter - 1 to terminate entering numbers.)\n",
      "(Enter a nonnegative number: )12\n",
      "(Enter a nonnegative number: )123\n",
      "(Enter a nonnegative number: )-1\n",
      "[12, 123]\n"
     ]
    }
   ],
   "source": [
    "# Get the list of numbers\n",
    "list1 = []\n",
    "print(\"(Enter - 1 to terminate entering numbers.)\")\n",
    "while True:\n",
    "    num = eval(input(\"(Enter a nonnegative number: )\"))\n",
    "    if num == -1:\n",
    "        break # Imediatly terminate the loop\n",
    "    list1.append(num)\n",
    "print(list1)"
   ]
  },
  {
   "cell_type": "markdown",
   "metadata": {},
   "source": [
    "<h3> The <i>continue</i> Statement </h3>\n",
    "<a id = \"continue\"> </a>\n",
    "\n",
    "<p> The <b>continue</b> statement interapts a loop execution and returns interpreter to the header of the loop (). The <b> continue </b> statement usually apears inside of <b>if</b> statement of the loop body: </p>"
   ]
  },
  {
   "cell_type": "code",
   "execution_count": 4,
   "metadata": {},
   "outputs": [
    {
     "name": "stdout",
     "output_type": "stream",
     "text": [
      "(Enter - 1 to terminate entering numbers.)\n",
      "(Enter a nonnegative number: )45\n",
      "(Enter a nonnegative number: )13\n",
      "(Enter a nonnegative number: )12\n",
      "(Enter a nonnegative number: )7\n",
      "(Enter a nonnegative number: )95\n",
      "(Enter a nonnegative number: )5\n",
      "(Enter a nonnegative number: )-1\n",
      "[45, 13, 12, 95, 5]\n"
     ]
    }
   ],
   "source": [
    "# Get the list of numbers without 7\n",
    "list1 = []\n",
    "print(\"(Enter - 1 to terminate entering numbers.)\")\n",
    "while True:\n",
    "    num = eval(input(\"(Enter a nonnegative number: )\"))\n",
    "    if num == 7:\n",
    "        continue # Skip number 7 to next statement  \n",
    "    if num == -1:\n",
    "        break # Imediatly terminate the loop\n",
    "    list1.append(num)\n",
    "print(list1)"
   ]
  },
  {
   "cell_type": "markdown",
   "metadata": {},
   "source": [
    "<h3> Creating Menue</h3>\n",
    "<a id = \"menu\"> </a>\n",
    "\n",
    "<p> In interactive programs, user is presented with menu of choices where user makes selection until user decide to quiet. It is like restaurant menu where you have to choose your order or leave the restaurant. Here is the example of such menu program:</p>"
   ]
  },
  {
   "cell_type": "code",
   "execution_count": 5,
   "metadata": {
    "scrolled": true
   },
   "outputs": [
    {
     "name": "stdout",
     "output_type": "stream",
     "text": [
      "Enter a number from the menu to obtaine a fact\n",
      "about US or to exit the program.\n",
      "\n",
      "1. Capital\n",
      "2. National Bird\n",
      "3. Natinal Flower\n",
      "4. Quite \n",
      "\n",
      "Make s selecton from the menu:1\n",
      "Washington, DC is the capital of US\n",
      "Make s selecton from the menu:2\n",
      "The American Bold Eagle\n",
      "Make s selecton from the menu:3\n",
      "The Rose\n",
      "Make s selecton from the menu:4\n"
     ]
    }
   ],
   "source": [
    "## Display facts about US\n",
    "print(\"Enter a number from the menu to obtaine a fact\")\n",
    "print(\"about US or to exit the program.\\n\")\n",
    "print(\"1. Capital\")\n",
    "print(\"2. National Bird\")\n",
    "print(\"3. Natinal Flower\")\n",
    "print(\"4. Quite \\n\")\n",
    "while True:\n",
    "    num = int(input(\"Make s selecton from the menu:\"))\n",
    "    if num == 1:\n",
    "        print(\"Washington, DC is the capital of US\")\n",
    "    elif num == 2:\n",
    "        print(\"The American Bold Eagle\")\n",
    "    elif num == 3:\n",
    "        print(\"The Rose\")\n",
    "    elif num == 4:\n",
    "        break"
   ]
  },
  {
   "cell_type": "markdown",
   "metadata": {},
   "source": [
    "<h3> Infinite Loops </h3>\n",
    "<a id = \"iloop\"> </a>\n",
    "\n",
    "<p> In your program development, be extra careful to avoid <b>infinite loops</b> that never end: </p>\n",
    "<p><b> num = 0</b>\n",
    "<br><b> while num >= 0:</b>\n",
    "<br><b>&nbsp;&nbsp;&nbsp;&nbsp;&nbsp; num *= num </b>\n",
    "<br><b>&nbsp;&nbsp;&nbsp;&nbsp;&nbsp; print(num) </b>\n",
    "</p>"
   ]
  },
  {
   "cell_type": "markdown",
   "metadata": {},
   "source": [
    "<h3> Lab Assignment</h3>\n",
    "<a id =\"lab\"> </a>"
   ]
  },
  {
   "cell_type": "markdown",
   "metadata": {},
   "source": [
    "<p> Q1) Determine the output: </p>\n",
    "\n",
    "<p><b> num = 3</b>\n",
    "<br><b> while True:</b>\n",
    "<br><b>&nbsp;&nbsp;&nbsp;&nbsp;&nbsp; num = 2*num </b>\n",
    "<br><b>&nbsp;&nbsp;&nbsp;&nbsp;&nbsp; if num > 15:</b>\n",
    "<br><b>&nbsp;&nbsp;&nbsp;&nbsp;&nbsp;&nbsp;&nbsp;&nbsp;&nbsp;&nbsp; break</b>\n",
    "<br><b>print(num) </b>\n",
    "</p>"
   ]
  },
  {
   "cell_type": "markdown",
   "metadata": {},
   "source": [
    "<p> Q2) Determine the output: </p>\n",
    "\n",
    "<p><b> num = 3</b>\n",
    "<br><b> while num < 15:</b>\n",
    "<br><b>&nbsp;&nbsp;&nbsp;&nbsp;&nbsp; num += 3 </b>\n",
    "<br><b>print(num) </b>\n",
    "</p>"
   ]
  },
  {
   "cell_type": "markdown",
   "metadata": {},
   "source": [
    "<p> Q3) Determine the output: </p>\n",
    "\n",
    "<p><b> total = 0 </b>\n",
    "<br><b> num = 1</b>\n",
    "<br><b> while num < 10:</b>\n",
    "<br><b>&nbsp;&nbsp;&nbsp;&nbsp;&nbsp; total += num </b>\n",
    "<br><b>&nbsp;&nbsp;&nbsp;&nbsp;&nbsp; num += 1 </b>\n",
    "<br><b>print(total) </b>\n",
    "<br><b>print(num) </b>\n",
    "</p>"
   ]
  },
  {
   "cell_type": "markdown",
   "metadata": {},
   "source": [
    "<p> Q4) Determine the output: </p>\n",
    "\n",
    "<p><b> list1 = [2, 4, 6, 8] </b>\n",
    "<br><b> total = 0 </b>\n",
    "<br><b> while list1: # same as while list1 != [ ]</b>\n",
    "<br><b>&nbsp;&nbsp;&nbsp;&nbsp;&nbsp; total += list1[0] </b>\n",
    "<br><b>&nbsp;&nbsp;&nbsp;&nbsp;&nbsp; list1 = list1[1:] </b>\n",
    "<br><b>print(total) </b>\n",
    "</p>"
   ]
  },
  {
   "cell_type": "markdown",
   "metadata": {},
   "source": [
    "<p> Q5) Determine the output: </p>\n",
    "\n",
    "<p><b> list1 = ['a', 'b', 'c', 'd'] </b>\n",
    "<br><b> i = 0 </b>\n",
    "<br><b> while True</b>\n",
    "<br><b>&nbsp;&nbsp;&nbsp;&nbsp;&nbsp; print(list[i]) </b>\n",
    "<br><b>&nbsp;&nbsp;&nbsp;&nbsp;&nbsp; i += 1 </b>\n",
    "<br><b>&nbsp;&nbsp;&nbsp;&nbsp;&nbsp; if i == len(list1):</b>\n",
    "<br><b>&nbsp;&nbsp;&nbsp;&nbsp;&nbsp;&nbsp;&nbsp;&nbsp;&nbsp;&nbsp; break</b>\n",
    "</p>"
   ]
  },
  {
   "cell_type": "markdown",
   "metadata": {},
   "source": [
    "<p> Q6) Identify and corect the error to determine the output: </p>\n",
    "\n",
    "<p><b> q = 1 </b>\n",
    "<br><b> while q > 1:</b>\n",
    "<br><b>&nbsp;&nbsp;&nbsp;&nbsp;&nbsp; q = 3 * q - 1 </b>\n",
    "<br><b>&nbsp;&nbsp;&nbsp;&nbsp;&nbsp; print(q) </b>\n",
    "</p>"
   ]
  },
  {
   "cell_type": "markdown",
   "metadata": {},
   "source": [
    "<p> Q7) Identify and corect the error to determine the output: </p>\n",
    "\n",
    "<p><b> ## Display numbers from 1 through 10 </b>\n",
    "<br><b> num = 0 </b>\n",
    "<br><b> while True:</b>\n",
    "<br><b>&nbsp;&nbsp;&nbsp;&nbsp;&nbsp; num = 1 </b>\n",
    "<br><b>&nbsp;&nbsp;&nbsp;&nbsp;&nbsp; print(num) </b>\n",
    "<br><b>&nbsp;&nbsp;&nbsp;&nbsp;&nbsp; num += 1 </b>\n",
    "</p>"
   ]
  },
  {
   "cell_type": "markdown",
   "metadata": {},
   "source": [
    "<p> Q8) Identify and corect the error to determine the output: </p>\n",
    "\n",
    "<p><b> ## Display elements of the list </b>\n",
    "<p><b> list1 = ['a', 'b', 'c', 'd'] </b>\n",
    "<br><b> i = 0 </b>\n",
    "<br><b> while i < (len(list1) - 1):</b>\n",
    "<br><b>&nbsp;&nbsp;&nbsp;&nbsp;&nbsp; print(list[i]) </b>\n",
    "<br><b>&nbsp;&nbsp;&nbsp;&nbsp;&nbsp; i += 1 </b>\n",
    "<br><b>&nbsp;&nbsp;&nbsp;&nbsp;&nbsp; print(list[i])</b>\n",
    "</p>"
   ]
  },
  {
   "cell_type": "markdown",
   "metadata": {},
   "source": [
    "<p> Q9) Identify and corect the error to determine the output: </p>\n",
    "\n",
    "<p><b> ## Display elements of the list </b>\n",
    "<p><b> list1 = ['a', 'b', 'c', 'd'] </b>\n",
    "<br><b> i = 0 </b>\n",
    "<br><b> while True:</b>\n",
    "<br><b>&nbsp;&nbsp;&nbsp;&nbsp;&nbsp; print(list[i]) </b>\n",
    "<br><b>&nbsp;&nbsp;&nbsp;&nbsp;&nbsp; i += 1 </b>\n",
    "<br><b>&nbsp;&nbsp;&nbsp;&nbsp;&nbsp; print(list[i])</b>\n",
    "<br><b>&nbsp;&nbsp;&nbsp;&nbsp;&nbsp; if i == len(list1):</b>\n",
    "<br><b>&nbsp;&nbsp;&nbsp;&nbsp;&nbsp;&nbsp;&nbsp;&nbsp;&nbsp;&nbsp; break</b>\n",
    "<br><b>&nbsp;&nbsp;&nbsp;&nbsp;&nbsp; i = i + 1</b>\n",
    "</p>"
   ]
  },
  {
   "cell_type": "markdown",
   "metadata": {},
   "source": [
    "<p> Q10) Temperature Conversions </p>\n",
    "\n",
    "<p> Write a program that displayes A Celsius-to-Fahrenheit conversion table from -30 to 50 degree Celsius in increament of 5 degree. The conversion formula is <i>Fahrenheit = (Celsius*9/5) + 32</i> </p>"
   ]
  },
  {
   "cell_type": "code",
   "execution_count": null,
   "metadata": {},
   "outputs": [],
   "source": []
  }
 ],
 "metadata": {
  "kernelspec": {
   "display_name": "Python 3",
   "language": "python",
   "name": "python3"
  },
  "language_info": {
   "codemirror_mode": {
    "name": "ipython",
    "version": 3
   },
   "file_extension": ".py",
   "mimetype": "text/x-python",
   "name": "python",
   "nbconvert_exporter": "python",
   "pygments_lexer": "ipython3",
   "version": "3.7.4"
  }
 },
 "nbformat": 4,
 "nbformat_minor": 2
}
