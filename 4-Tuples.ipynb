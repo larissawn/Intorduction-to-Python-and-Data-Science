{
 "cells": [
  {
   "cell_type": "markdown",
   "metadata": {},
   "source": [
    "# Working with Tuples"
   ]
  },
  {
   "cell_type": "markdown",
   "metadata": {},
   "source": [
    "<h3> Table of Content </h3>\n",
    "\n",
    "<div style=\"margin-top: 20px\">\n",
    "    <ul>\n",
    "        <li><a href=\"#tuple\">Tuples</a>\n",
    "        <li><a href=\"#sort\">Sorting a tuple</a></li>\n",
    "        <li><a href=\"#nesting\">Nested Tuple</a></li>\n",
    "        <li><a href=\"#compare\">Comparing tuples</a></li>\n",
    "        <li><a href=\"#TD\">Tuples and Dictionaries</a></li>\n",
    "        <li><a href=\"#lab\">Lab Assignment</a></li>\n",
    "            </ul>\n",
    "       \n",
    "</div>"
   ]
  },
  {
   "cell_type": "markdown",
   "metadata": {},
   "source": [
    "<h3> Tuples </h3>\n",
    "<a id=\"tuple\"></a>\n",
    "\n",
    "<p> Tuples are another sequence objects that are similar to lists. The difference between tuples and lists is that tuples are <b>immutable</b>. i.e. they cannot be modified. Tuples do not have functions to add or delete items. Otherwise, all functions of lists apply to tuples. </p>\n",
    "\n",
    "<p> Tuples are <b>ordered</b> and items are <b>indexed</b>. Therefore, indexing and slicing are used to access the items of a tuple. Further, like lists, tuples can be concatinated (using '+') or repeated (using '*'). </p>"
   ]
  },
  {
   "cell_type": "code",
   "execution_count": 1,
   "metadata": {},
   "outputs": [
    {
     "name": "stdout",
     "output_type": "stream",
     "text": [
      "(1, 2, 3, 4)\n",
      "<class 'tuple'>\n",
      "(5, 6, 7)\n",
      "<class 'tuple'>\n"
     ]
    }
   ],
   "source": [
    "# Examples of creating a tuple using ()\n",
    "Tuple1 = (1,2,3,4)    #create a tuple named Tuple1 and assign it the values 1,2,3,4\n",
    "print(Tuple1)\n",
    "print(type(Tuple1))\n",
    "# paranthesis are optional.\n",
    "Tuple2 = 5,6,7        #create a tuple names Tuple2 and assign it the values 5,6,7. \n",
    "print(Tuple2)\n",
    "print(type(Tuple2))"
   ]
  },
  {
   "cell_type": "code",
   "execution_count": 2,
   "metadata": {},
   "outputs": [
    {
     "name": "stdout",
     "output_type": "stream",
     "text": [
      "4\n",
      "7\n",
      "1\n",
      "18\n",
      "3\n",
      "(5, 6, 7)\n"
     ]
    }
   ],
   "source": [
    "# Functions on tuples are the same as lists\n",
    "print(len(Tuple1)) #prints the lengths of Tuple1\n",
    "print(max(Tuple2)) #prints the largest number in Tuple2\n",
    "print(min(Tuple1)) #prints the least number in Tuple1\n",
    "print(sum(Tuple2)) #prints the sum of Tuple2\n",
    "print(Tuple1[2]) #prints the 3rd item in Tuple1\n",
    "print(Tuple2[:]) #prints a subtuple from Tuple2. In this case all items from index 0 to the end of the tuple"
   ]
  },
  {
   "cell_type": "code",
   "execution_count": 38,
   "metadata": {},
   "outputs": [
    {
     "ename": "TypeError",
     "evalue": "'tuple' object does not support item assignment",
     "output_type": "error",
     "traceback": [
      "\u001b[0;31m---------------------------------------------------------------------------\u001b[0m",
      "\u001b[0;31mTypeError\u001b[0m                                 Traceback (most recent call last)",
      "\u001b[0;32m<ipython-input-38-e6069dd8e891>\u001b[0m in \u001b[0;36m<module>\u001b[0;34m()\u001b[0m\n\u001b[1;32m      1\u001b[0m \u001b[0;31m# Tuples are immutable. Therefore, you cannot edit the items in a tuple.\u001b[0m\u001b[0;34m\u001b[0m\u001b[0;34m\u001b[0m\u001b[0;34m\u001b[0m\u001b[0m\n\u001b[0;32m----> 2\u001b[0;31m \u001b[0mTuple2\u001b[0m\u001b[0;34m[\u001b[0m\u001b[0;36m0\u001b[0m\u001b[0;34m]\u001b[0m \u001b[0;34m=\u001b[0m \u001b[0;36m3\u001b[0m \u001b[0;31m#edit the first item in Tuple2. This results in a TypeError: 'tuple' object does not support item assignment\u001b[0m\u001b[0;34m\u001b[0m\u001b[0;34m\u001b[0m\u001b[0m\n\u001b[0m",
      "\u001b[0;31mTypeError\u001b[0m: 'tuple' object does not support item assignment"
     ]
    }
   ],
   "source": [
    "# Tuples are immutable. Therefore, you cannot edit the items in a tuple.\n",
    "Tuple2[0] = 3   # edit the first item in Tuple2. This results in a TypeError: 'tuple' object does not support item assignment\n"
   ]
  },
  {
   "cell_type": "markdown",
   "metadata": {},
   "source": [
    "<p> A workaround to edit a tuple is to reassign its variable name to a new tuple with the edited items. </p>"
   ]
  },
  {
   "cell_type": "code",
   "execution_count": 39,
   "metadata": {},
   "outputs": [
    {
     "name": "stdout",
     "output_type": "stream",
     "text": [
      "(3, 6, 7)\n"
     ]
    }
   ],
   "source": [
    "Tuple2 = (3,) + Tuple2[1:]    # this generates a new Tuple2 variable with items 3 and items (2nd to the end) from the original Tuple2 \n",
    "print(Tuple2)   # prints (3,6,7)"
   ]
  },
  {
   "cell_type": "markdown",
   "metadata": {},
   "source": [
    "<p> You can cast other objects (string, list) to tuple using the <b>tuple()</b> function. For example: </p>"
   ]
  },
  {
   "cell_type": "code",
   "execution_count": 3,
   "metadata": {},
   "outputs": [
    {
     "name": "stdout",
     "output_type": "stream",
     "text": [
      "<class 'tuple'>\n",
      "(1, 2, 3, 4)\n",
      "<class 'tuple'>\n",
      "('P', 'y', 't', 'h', 'o', 'n')\n"
     ]
    }
   ],
   "source": [
    "#Casting a list to a tuple\n",
    "L1 = [1,2,3,4]\n",
    "T1 = tuple(L1)    # switch the list L1 to a tuple\n",
    "print(type(T1))   # prints the type of T1, tuple in this case\n",
    "print(T1)         # prints (1,2,3,4)\n",
    "\n",
    "#Casting a string to a tuple\n",
    "str1 = \"Python\"\n",
    "T2 = tuple(str1)  # casts the string str1 to a tuple. Each character in the string will become an item in the tuple\n",
    "print(type(T2))   # prints the type of T2, tuple in this case\n",
    "print(T2)         # prints ('P', 'y', 't', 'h', 'o', 'n')"
   ]
  },
  {
   "cell_type": "markdown",
   "metadata": {},
   "source": [
    "<h3> Sorting a tuple </h3>\n",
    "<a id=\"sort\"></a>\n",
    "<p> Tuples can be sorted using the <b>sorted() </b> function. <b>Yet, the output of the sorted() will be a list. For example:</b> </p>"
   ]
  },
  {
   "cell_type": "code",
   "execution_count": 6,
   "metadata": {},
   "outputs": [
    {
     "name": "stdout",
     "output_type": "stream",
     "text": [
      "('P', 'y', 't', 'h', 'o', 'n')\n",
      "<class 'tuple'>\n",
      "['P', 'h', 'n', 'o', 't', 'y']\n",
      "<class 'list'>\n"
     ]
    }
   ],
   "source": [
    "print(T2)        # prints tuple T2\n",
    "print(type(T2))  # prints type of T2\n",
    "T3 = sorted(T2)  # sorts the items of T2 alphabatically and saves the result into a list T3.\n",
    "print(T3)        # prints ['P', 'h', 'n', 'o', 't', 'y']\n",
    "print(type(T3))  # prints list as the type of T3"
   ]
  },
  {
   "cell_type": "markdown",
   "metadata": {},
   "source": [
    "<h3> Nested tuple </h3>\n",
    "<a id=\"nesting\"></a>\n",
    "<p> A tuple can contain items of different types (int, float, string). It can also contain other sequence types (list, tuple). </p>\n",
    "<p> The case of having a tuple as an item of another tuple is called nesting tuples. </p>"
   ]
  },
  {
   "cell_type": "code",
   "execution_count": 14,
   "metadata": {},
   "outputs": [
    {
     "name": "stdout",
     "output_type": "stream",
     "text": [
      "1\n",
      "2.5\n",
      "('a', 'c')\n",
      "Python\n",
      "a\n",
      "n\n"
     ]
    }
   ],
   "source": [
    "# Example of nested tuples\n",
    "T4 = (1, 2.5, ('a', 'c'), 'Python') #an example of a tuple with different types of items.\n",
    "print(T4[0])     # prints the int 1\n",
    "print(T4[1])     # prints the float 2.5\n",
    "print(T4[2])     # prints the tuple ('a','c')\n",
    "print(T4[3])     # prints the string 'Python'\n",
    "\n",
    "# if the item is a sequence item (list, tuple, or a string), you can access the items inside it by using the second level indexing\n",
    "print(T4[2][0])  # print the first item in the tuple ('a', 'c')\n",
    "print(T4[3][-1]) # print the last item in the string 'Python'"
   ]
  },
  {
   "cell_type": "markdown",
   "metadata": {},
   "source": [
    "<h3> Comparing tuples </h3>\n",
    "<a id=\"compare\"></a>\n",
    "<p> Tuples can be compared. In this process, Python starts with the first element of each tuple. If they are equal, Python goes on to the next element, until it finds the first instance of elements that differ. The different elements will be compared and the result will be given without testing the subsequenct elements. For example: </p>"
   ]
  },
  {
   "cell_type": "code",
   "execution_count": 15,
   "metadata": {},
   "outputs": [
    {
     "data": {
      "text/plain": [
       "True"
      ]
     },
     "execution_count": 15,
     "metadata": {},
     "output_type": "execute_result"
    }
   ],
   "source": [
    "# Example of tuple comparison\n",
    "(0,1,2) < (0,3,4) \n",
    "# Python finds the first instance of different elements (1 and 3 in this case). It will show the result (True) accordingly."
   ]
  },
  {
   "cell_type": "markdown",
   "metadata": {},
   "source": [
    "##### Tuple assignment\n",
    "\n",
    "<p> One of the powerful features of Python is its ability to have a tuple on the left side of the assignment statement. This is used when you need to assign more than one variable at a time when the left side is a sequence. </p>\n",
    "<p> For example: </p>"
   ]
  },
  {
   "cell_type": "code",
   "execution_count": 21,
   "metadata": {},
   "outputs": [
    {
     "name": "stdout",
     "output_type": "stream",
     "text": [
      "1\n",
      "2\n",
      "3\n",
      "4\n"
     ]
    }
   ],
   "source": [
    "# Example of multiple assignment at the same time\n",
    "\n",
    "x , y = 1 , 2\n",
    "print(x)\n",
    "print(y)\n",
    "\n",
    "a, b = [3, 4]\n",
    "print(a)\n",
    "print(b)"
   ]
  },
  {
   "cell_type": "code",
   "execution_count": 24,
   "metadata": {},
   "outputs": [
    {
     "name": "stdout",
     "output_type": "stream",
     "text": [
      "7\n",
      "9\n",
      "9\n",
      "7\n"
     ]
    }
   ],
   "source": [
    "# An application of tuple assignment is when we want to swap the values of two variables in a signle statement\n",
    "d , f = 7, 9 # assign 7 to d and 9 to f\n",
    "print(d)\n",
    "print(f)\n",
    "d , f = f , d # swaps the values of (d) and (f)\n",
    "print(d)\n",
    "print(f)"
   ]
  },
  {
   "cell_type": "markdown",
   "metadata": {},
   "source": [
    "<p> Although the two sides of the assignment are tuple. Python treats the left side of the assignment as a tuple of variables and the right side as a tuple of expressions. i.e. each value on the right side is assigned to its respective variable on the left side. </p>\n",
    "\n",
    "<p> Note: the number of the variables on the left have to match the number of values on the right side. </p>"
   ]
  },
  {
   "cell_type": "code",
   "execution_count": 26,
   "metadata": {},
   "outputs": [
    {
     "ename": "ValueError",
     "evalue": "too many values to unpack (expected 2)",
     "output_type": "error",
     "traceback": [
      "\u001b[0;31m---------------------------------------------------------------------------\u001b[0m",
      "\u001b[0;31mValueError\u001b[0m                                Traceback (most recent call last)",
      "\u001b[0;32m<ipython-input-26-1fb6446f9df0>\u001b[0m in \u001b[0;36m<module>\u001b[0;34m()\u001b[0m\n\u001b[1;32m      1\u001b[0m \u001b[0;31m# unmatching multiple assignments\u001b[0m\u001b[0;34m\u001b[0m\u001b[0;34m\u001b[0m\u001b[0;34m\u001b[0m\u001b[0m\n\u001b[1;32m      2\u001b[0m \u001b[0;34m\u001b[0m\u001b[0m\n\u001b[0;32m----> 3\u001b[0;31m \u001b[0mx\u001b[0m \u001b[0;34m,\u001b[0m \u001b[0my\u001b[0m \u001b[0;34m=\u001b[0m \u001b[0;36m1\u001b[0m\u001b[0;34m,\u001b[0m \u001b[0;36m2\u001b[0m\u001b[0;34m,\u001b[0m \u001b[0;36m3\u001b[0m \u001b[0;31m#this will throw a value error of (too many values to unpack)\u001b[0m\u001b[0;34m\u001b[0m\u001b[0;34m\u001b[0m\u001b[0m\n\u001b[0m",
      "\u001b[0;31mValueError\u001b[0m: too many values to unpack (expected 2)"
     ]
    }
   ],
   "source": [
    "# unmatching multiple assignments\n",
    "\n",
    "x , y = 1, 2, 3 # this will throw a value error of (too many values to unpack)"
   ]
  },
  {
   "cell_type": "markdown",
   "metadata": {},
   "source": [
    "<h3> Tuples and dictionaries </h3>\n",
    "<a id=\"TD\"></a>\n",
    "<p> Dictionaries have a method called items that returns a list of tuples. </p>\n",
    "<p> For example: </p>"
   ]
  },
  {
   "cell_type": "code",
   "execution_count": 7,
   "metadata": {},
   "outputs": [
    {
     "name": "stdout",
     "output_type": "stream",
     "text": [
      "dict_items([(1, 'Toyota'), (2, 'Mercedes'), (4, 'VW'), (3, 'GMC')])\n",
      "<class 'dict_items'>\n"
     ]
    }
   ],
   "source": [
    "cars={1:'Toyota', 2:'Mercedes', 4: 'VW', 3:'GMC'}\n",
    "\n",
    "cars_tuple = cars.items() # switches the items as tuples and puts them into a list\n",
    "print(cars_tuple)\n",
    "print(type(cars_tuple))"
   ]
  },
  {
   "cell_type": "markdown",
   "metadata": {},
   "source": [
    "<p> Since tuples are comparable, the list of tuples can be sorted. i.e. converting the dictionary to a list of tuples is a way for us to sort the content dictionary by its keys. </p>"
   ]
  },
  {
   "cell_type": "code",
   "execution_count": 35,
   "metadata": {},
   "outputs": [
    {
     "data": {
      "text/plain": [
       "[(1, 'Toyota'), (2, 'Mercedes'), (3, 'GMC'), (4, 'VW')]"
      ]
     },
     "execution_count": 35,
     "metadata": {},
     "output_type": "execute_result"
    }
   ],
   "source": [
    "# Example of sorting a dictionary\n",
    "cars_tuple = sorted(cars.items())\n",
    "#this is the same as\n",
    "sorted(cars_tuple) "
   ]
  },
  {
   "cell_type": "markdown",
   "metadata": {},
   "source": [
    "<h3> Lab Assignment </h3>\n",
    "<a id=\"lab\"></a>"
   ]
  },
  {
   "cell_type": "markdown",
   "metadata": {},
   "source": [
    "<p> Q1) Write a tuple that is named tuple1 and that contains the items ('John', True, 0, 1.6). </p>"
   ]
  },
  {
   "cell_type": "code",
   "execution_count": null,
   "metadata": {},
   "outputs": [],
   "source": []
  },
  {
   "cell_type": "markdown",
   "metadata": {},
   "source": [
    "<p> Q2) Write a program that initiate the variables cost1, cost2, and costs 3 and assigns them the values 15.7, 22.4, 65.1 respectively <b> in one line </b>. </p>"
   ]
  },
  {
   "cell_type": "code",
   "execution_count": null,
   "metadata": {},
   "outputs": [],
   "source": []
  },
  {
   "cell_type": "markdown",
   "metadata": {},
   "source": [
    "<p> Q3) Write a program that finds the index of the item 1.6 in the tuple tuple1. </p>"
   ]
  },
  {
   "cell_type": "code",
   "execution_count": null,
   "metadata": {},
   "outputs": [],
   "source": []
  },
  {
   "cell_type": "markdown",
   "metadata": {},
   "source": [
    "<p>Q4) Write a program that converts the tuple words into a string.\n",
    "words = {'Hello', 'Python'} <br>\n",
    "    Hint: use join() method. </p>"
   ]
  },
  {
   "cell_type": "code",
   "execution_count": null,
   "metadata": {},
   "outputs": [],
   "source": []
  }
 ],
 "metadata": {
  "kernelspec": {
   "display_name": "Python 3",
   "language": "python",
   "name": "python3"
  },
  "language_info": {
   "codemirror_mode": {
    "name": "ipython",
    "version": 3
   },
   "file_extension": ".py",
   "mimetype": "text/x-python",
   "name": "python",
   "nbconvert_exporter": "python",
   "pygments_lexer": "ipython3",
   "version": "3.7.4"
  }
 },
 "nbformat": 4,
 "nbformat_minor": 2
}
