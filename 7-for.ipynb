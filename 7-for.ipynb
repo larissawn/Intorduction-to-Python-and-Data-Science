{
 "cells": [
  {
   "cell_type": "markdown",
   "metadata": {},
   "source": [
    "# Working with <i>for</i> Statement"
   ]
  },
  {
   "cell_type": "markdown",
   "metadata": {},
   "source": [
    "## Table of Content"
   ]
  },
  {
   "cell_type": "markdown",
   "metadata": {},
   "source": [
    "<div style=\"margin-top: 20px\">\n",
    "    <ul>\n",
    "        <li><a href=\"#forLoop\"> <i>for</i> Loop Definition</a>\n",
    "        <li><a href=\"#nloop\">Looping Through an Arithmetic Progression of Numbers</a></li>\n",
    "        <li><a href=\"#nnloop\">Nested Loops</a></li>\n",
    "        <li><a href=\"#sloop\">Looping Through the Characters of a String</a></li>\n",
    "        <li><a href=\"#ltloop\">Looping Through the List or Tuple</a></li>\n",
    "        <li><a href=\"#floop\">Looping Through the lines of File</a></li>\n",
    "        <li><a href=\"#pass\">The <i>pass</i> Statement</a></li> \n",
    "        <li><a href=\"#listF\">Populating List with the File Content</a></li>         \n",
    "        <li><a href=\"#lab\">Lab Assignment</a></li>\n",
    "            </ul>\n",
    "       \n",
    "</div>"
   ]
  },
  {
   "cell_type": "markdown",
   "metadata": {},
   "source": [
    "<h3> <i>for</i> Loop </h3>\n",
    "<a id = \"forLoop\"> </a>\n",
    "\n",
    "<p> The <b>for</b> loop is a part of Control Flow structures. It allows user to iterate through  a <i>sequence</i> of values, where the <i>sequence</i> can be an arithmetic progression of numbers, a string, a list, a tuple, a dictionary or a file object. The general form of a for loop is:</p>\n",
    "<p><b> for <i>var</i> in <i>sequence</i>:</b>\n",
    "<br><b>&nbsp;&nbsp;&nbsp;&nbsp;&nbsp;   <i>indented block of statements</i>  </b></p>\n",
    "\n",
    "<p> Variable is successively assigned each value in the sequence, where indented block of statements are executed after each assignment.</p>\n",
    "<p> Physical indentation instructs python interpreter where block starts and stops in the <b>for</b> loop.</p>\n"
   ]
  },
  {
   "cell_type": "markdown",
   "metadata": {},
   "source": [
    "<h3> Looping Through an Arithmetic Progression of Numbers </h3>\n",
    "<a id = \"nloop\"> </a>\n",
    "\n",
    "<p> To loop through an arithmetic progression of numbers, we usually use <b>range(<i>m, n, s</i>)</b> function, where <b><i>m</i></b> is starting integer, <b><i>n</i></b> is ending integer (<b><i>m</i></b> < <b><i>n</i></b>), and <b><i>s</i></b> is the step values of the range function.</p>\n",
    "\n",
    "<p> Here is the example the <b>range(<i>m, n, s</i>)</b> function with application in the <b>for</b> loop. </p>"
   ]
  },
  {
   "cell_type": "markdown",
   "metadata": {},
   "source": [
    "range(n)          - if there is one value in range function, it will generate numbers starting from 0 to n-1\n",
    "range(5)          - generate sequence from 0 to 4    \n",
    "range(0, 5)       - generate sequence from 0 to 4\n",
    "range(-4,2)       - generate sequence from -4 to 1\n",
    "range(-2, 10, 2)  - generate sequence from -2 to 8 with step 2\n",
    "range(2, -10, -2) - generate sequence from 2 to -8 with step -2"
   ]
  },
  {
   "cell_type": "code",
   "execution_count": 8,
   "metadata": {
    "scrolled": false
   },
   "outputs": [
    {
     "name": "stdout",
     "output_type": "stream",
     "text": [
      "0\n",
      "1\n",
      "2\n",
      "3\n",
      "4\n"
     ]
    }
   ],
   "source": [
    "num = range(5)\n",
    "for i in num:\n",
    "    print(i)"
   ]
  },
  {
   "cell_type": "code",
   "execution_count": 9,
   "metadata": {
    "scrolled": true
   },
   "outputs": [
    {
     "name": "stdout",
     "output_type": "stream",
     "text": [
      "0\n",
      "1\n",
      "2\n",
      "3\n",
      "4\n"
     ]
    }
   ],
   "source": [
    "num = range(0, 5)\n",
    "for i in num:\n",
    "    print(i)"
   ]
  },
  {
   "cell_type": "code",
   "execution_count": 10,
   "metadata": {
    "scrolled": true
   },
   "outputs": [
    {
     "name": "stdout",
     "output_type": "stream",
     "text": [
      "-4\n",
      "-3\n",
      "-2\n",
      "-1\n",
      "0\n",
      "1\n"
     ]
    }
   ],
   "source": [
    "num = range(-4, 2)\n",
    "for i in num:\n",
    "    print(i)"
   ]
  },
  {
   "cell_type": "code",
   "execution_count": 11,
   "metadata": {
    "scrolled": true
   },
   "outputs": [
    {
     "name": "stdout",
     "output_type": "stream",
     "text": [
      "-2\n",
      "0\n",
      "2\n",
      "4\n",
      "6\n",
      "8\n"
     ]
    }
   ],
   "source": [
    "num = range(-2, 10, 2)\n",
    "for i in num:\n",
    "    print(i)"
   ]
  },
  {
   "cell_type": "code",
   "execution_count": 12,
   "metadata": {},
   "outputs": [
    {
     "name": "stdout",
     "output_type": "stream",
     "text": [
      "2\n",
      "0\n",
      "-2\n",
      "-4\n",
      "-6\n",
      "-8\n"
     ]
    }
   ],
   "source": [
    "num = range(2, -10, -2)\n",
    "for i in num:\n",
    "    print(i)"
   ]
  },
  {
   "cell_type": "markdown",
   "metadata": {},
   "source": [
    "<h3> Nested Loops </h3>\n",
    "<a id = \"nnloop\"> </a>\n",
    "\n",
    "<p> The body of the <b>for</b> loop can have different python statements. It also can have another <b>for</b> loop inside, which we call the nested loop because it is inside the loop. The nested loop needs to have different variables to avoid interpreter confusion </p>"
   ]
  },
  {
   "cell_type": "code",
   "execution_count": 13,
   "metadata": {},
   "outputs": [
    {
     "name": "stdout",
     "output_type": "stream",
     "text": [
      "1 x 1  = 1 \t1 x 2  = 2 \t1 x 3  = 3 \t1 x 4  = 4 \t1 x 5  = 5 \t2 x 1  = 2 \t2 x 2  = 4 \t2 x 3  = 6 \t2 x 4  = 8 \t2 x 5  = 10 \t3 x 1  = 3 \t3 x 2  = 6 \t3 x 3  = 9 \t3 x 4  = 12 \t3 x 5  = 15 \t4 x 1  = 4 \t4 x 2  = 8 \t4 x 3  = 12 \t4 x 4  = 16 \t4 x 5  = 20 \t5 x 1  = 5 \t5 x 2  = 10 \t5 x 3  = 15 \t5 x 4  = 20 \t5 x 5  = 25 \t"
     ]
    }
   ],
   "source": [
    "# Example of nested loops for the multiplication table from 1 through 5\n",
    "for m in range(1, 6):\n",
    "    for n in range(1, 6):\n",
    "        print(m, 'x', n, ' =', m*n, \"\\t\", end=\"\")"
   ]
  },
  {
   "cell_type": "markdown",
   "metadata": {},
   "source": [
    "<h3> Looping Through the Characters of a String </h3>\n",
    "<a id = \"sloop\"> </a>\n",
    "\n",
    "<p> To loop through the characters of a string the process is like work with numbers. The general code looks: </p>\n",
    "<p><b> for <i>ch</i> in <i>str1</i>:</b>\n",
    "<br><b>&nbsp;&nbsp;&nbsp;&nbsp;&nbsp;   <i>indented block of statements</i>  </b></p>"
   ]
  },
  {
   "cell_type": "code",
   "execution_count": 15,
   "metadata": {
    "scrolled": true
   },
   "outputs": [
    {
     "name": "stdout",
     "output_type": "stream",
     "text": [
      "P\n",
      "y\n",
      "t\n",
      "h\n",
      "o\n",
      "n\n"
     ]
    }
   ],
   "source": [
    "s = 'Python'\n",
    "for ch in s:\n",
    "    print(ch)"
   ]
  },
  {
   "cell_type": "code",
   "execution_count": 16,
   "metadata": {},
   "outputs": [
    {
     "name": "stdout",
     "output_type": "stream",
     "text": [
      "S\n",
      "t\n",
      "r\n",
      "i\n",
      "n\n",
      "g\n",
      " \n",
      "i\n",
      "n\n",
      " \n",
      "P\n",
      "y\n",
      "t\n",
      "h\n",
      "o\n",
      "n\n"
     ]
    }
   ],
   "source": [
    "s = 'String in Python'\n",
    "for i in range(len(s)):\n",
    "    print(s[i])"
   ]
  },
  {
   "cell_type": "code",
   "execution_count": 18,
   "metadata": {},
   "outputs": [
    {
     "name": "stdout",
     "output_type": "stream",
     "text": [
      "nohtyP ni gnirtS.\n"
     ]
    }
   ],
   "source": [
    "s = 'String in Python'\n",
    "reverseWord = \"\"\n",
    "for ch in s:\n",
    "    reverseWord = ch + reverseWord\n",
    "print(reverseWord + \".\")"
   ]
  },
  {
   "cell_type": "markdown",
   "metadata": {},
   "source": [
    "<h3> Looping Through the List or Tuple </h3>\n",
    "<a id = \"ltloop\"> </a>\n",
    "\n",
    "<p> To loop through the list or tuple : </p>\n",
    "<p><b> for <i>item</i> in <i>ListOrTuple</i>:</b>\n",
    "<br><b>&nbsp;&nbsp;&nbsp;&nbsp;&nbsp;   <i>indented block of statements</i>  </b></p>"
   ]
  },
  {
   "cell_type": "code",
   "execution_count": 24,
   "metadata": {
    "scrolled": true
   },
   "outputs": [
    {
     "name": "stdout",
     "output_type": "stream",
     "text": [
      "['Jan', 'Feb', 'Mar', 'Apr', 'May', 'Jun', 'Jul', 'Aug', 'Sep', 'Oct', 'Nov', 'Dec']\n"
     ]
    }
   ],
   "source": [
    "# Example of the loop through the list\n",
    "months = [\"January\", \"February\", \"March\", \"April\", \"May\", \"June\", \"July\", \"August\", \"September\", \"October\", \n",
    "          \"November\", \"December\"]\n",
    "for i in range(len(months)):\n",
    "    months[i] = months[i][0:3]\n",
    "print(months)"
   ]
  },
  {
   "cell_type": "code",
   "execution_count": 22,
   "metadata": {},
   "outputs": [
    {
     "name": "stdout",
     "output_type": "stream",
     "text": [
      "January\n",
      "February\n",
      "May\n",
      "July\n"
     ]
    }
   ],
   "source": [
    "# Example of the loop through the tuple\n",
    "months = (\"January\", \"February\", \"March\", \"April\", \"May\", \"June\", \"July\", \"August\", \"September\", \"October\", \n",
    "          \"November\", \"December\")\n",
    "for month in months:\n",
    "    if 'y' in month:\n",
    "        print(month)"
   ]
  },
  {
   "cell_type": "markdown",
   "metadata": {},
   "source": [
    "<h3> Looping Through the lines of File </h3>\n",
    "<a id = \"floop\"> </a>\n",
    "\n",
    "<p> To loop through the <b>fileName.txt</b>, the code looks like : </p>\n",
    "<p><b> infile = open(\"fileName.txt\", 'r'):</b>\n",
    "<br><b> for <i>line</i> in <i>infile</i>:</b>\n",
    "<br><b>&nbsp;&nbsp;&nbsp;&nbsp;&nbsp;   <i>indented block of statements</i>  </b>\n",
    "<br><b> infile.close() </b></p>\n",
    "\n",
    "<p>The first code line of the code establishes connection to read the text file. The second code line loops through the text file by reading each line at the time and execute indented block of statement. We assume that text file is located at the same folder as the main program or notebook script. </p>"
   ]
  },
  {
   "cell_type": "code",
   "execution_count": 26,
   "metadata": {},
   "outputs": [
    {
     "name": "stdout",
     "output_type": "stream",
     "text": [
      "Afghanistan\n",
      "\n",
      "Albania\n",
      "\n",
      "Algeria\n",
      "\n",
      "Andorra\n",
      "\n",
      "Angola\n",
      "\n",
      "Antigua and Barbuda\n",
      "\n",
      "Argentina\n",
      "\n",
      "Armenia\n",
      "\n",
      "Australia\n",
      "\n",
      "Austria\n",
      "\n",
      "Azerbaijan\n",
      "\n"
     ]
    }
   ],
   "source": [
    "# Read the text file through the for-loop\n",
    "infile = open(\"Country.txt\", 'r')\n",
    "for line in infile:\n",
    "    print(line)\n",
    "infile.close()"
   ]
  },
  {
   "cell_type": "markdown",
   "metadata": {},
   "source": [
    "<h3> The <i>pass</i> Statement </h3>\n",
    "<a id = \"pass\"> </a>\n",
    "\n",
    "<p> During the program development, it may require looping through the block statement but not to do anything. For that purpose, we can use <b><i>pass</i></b> statement. The general code looks like: </p>\n",
    "<p><b> infile = open(\"fileName.txt\", 'r'):</b>\n",
    "<br><b> for <i>line</i> in <i>infile</i>:</b>\n",
    "<br><b>&nbsp;&nbsp;&nbsp;&nbsp;&nbsp;   <i>pass</i>  </b>\n",
    "<br><b> infile.close() </b></p>"
   ]
  },
  {
   "cell_type": "code",
   "execution_count": 27,
   "metadata": {},
   "outputs": [
    {
     "name": "stdout",
     "output_type": "stream",
     "text": [
      "Azerbaijan\n"
     ]
    }
   ],
   "source": [
    "# Read the last line of text file using pass statement\n",
    "infile = open(\"Country.txt\", 'r')\n",
    "for line in infile:\n",
    "    pass\n",
    "print(line.rstrip())\n",
    "infile.close()"
   ]
  },
  {
   "cell_type": "markdown",
   "metadata": {},
   "source": [
    "<h3> Populating List with the File Content</h3>\n",
    "<a id = \"listF\"> </a>\n",
    "\n",
    "<p> The more efficient way to work with text file is to place the data into a <b><i>list</i></b> and use the <b><i>list</i></b> functions and methods to further work with data. The following examples show how to accomplish it:</p>"
   ]
  },
  {
   "cell_type": "code",
   "execution_count": 28,
   "metadata": {},
   "outputs": [
    {
     "name": "stdout",
     "output_type": "stream",
     "text": [
      "['Afghanistan', 'Albania', 'Algeria', 'Andorra', 'Angola', 'Antigua and Barbuda', 'Argentina', 'Armenia', 'Australia', 'Austria', 'Azerbaijan']\n"
     ]
    }
   ],
   "source": [
    "# Read the text file into a list\n",
    "dataList = []\n",
    "infile = open(\"Country.txt\", 'r')\n",
    "for line in infile:\n",
    "    dataList.append(line.strip())\n",
    "infile.close()\n",
    "print(dataList)"
   ]
  },
  {
   "cell_type": "markdown",
   "metadata": {},
   "source": [
    "<p> There is more efficient way to accomplish the same task:</p>"
   ]
  },
  {
   "cell_type": "code",
   "execution_count": 29,
   "metadata": {},
   "outputs": [
    {
     "name": "stdout",
     "output_type": "stream",
     "text": [
      "['Afghanistan', 'Albania', 'Algeria', 'Andorra', 'Angola', 'Antigua and Barbuda', 'Argentina', 'Armenia', 'Australia', 'Austria', 'Azerbaijan']\n"
     ]
    }
   ],
   "source": [
    "# Alternative way to read the text file into a list\n",
    "infile = open(\"Country.txt\", 'r')\n",
    "dataList = [line.strip() for line in infile]\n",
    "infile.close()\n",
    "print(dataList)"
   ]
  },
  {
   "cell_type": "markdown",
   "metadata": {},
   "source": [
    "<h3> Lab Assignment</h3>\n",
    "<a id =\"lab\"> </a>"
   ]
  },
  {
   "cell_type": "markdown",
   "metadata": {},
   "source": [
    "<p> Q1) Determine the value of the expressions: </p>\n",
    "\n",
    "<p>range(7, 11)</p>\n",
    "<p>range(-11, -7)</p>\n",
    "<p>range(2, 14, 2)</p>\n",
    "<p>range(2010, 2030, 5)</p>\n",
    "<p>range(5)</p>\n",
    "<p>range(0)</p>\n",
    "<p>range(11, 1, -1)</p>\n",
    "<p>range(12, -2, -2)</p>"
   ]
  },
  {
   "cell_type": "markdown",
   "metadata": {},
   "source": [
    "<p> Q2) Create range function that genetate the sequence of numbers: </p>\n",
    "<p> 4, 9, 14, 19</p>\n",
    "<p> -21, -20, -19, -18, -17</p>\n",
    "<p> 20, 17, 14</p>\n",
    "<p> 0, 1, 2, 3, 4</p>\n",
    "<p> 4, 3, 2, 1</p>\n",
    "<p> 7</p>\n",
    "<p> -5, -3, -1, 1</p>"
   ]
  },
  {
   "cell_type": "markdown",
   "metadata": {},
   "source": [
    "<p> Q3) Determine output: </p>\n",
    "\n",
    "<p> for i in range(1, 5):</b>\n",
    "<br>&nbsp;&nbsp;&nbsp;&nbsp;&nbsp; print(\"Pass #\" + str(i)) </p>"
   ]
  },
  {
   "cell_type": "markdown",
   "metadata": {},
   "source": [
    "<p> Q4) Determine output: </p>\n",
    "\n",
    "<p> num = 5 \n",
    "<br> for i in range(num, 2*num - 2):\n",
    "<br>&nbsp;&nbsp;&nbsp;&nbsp;&nbsp; print(i) </p>"
   ]
  },
  {
   "cell_type": "markdown",
   "metadata": {},
   "source": [
    "<p> Q5) Determine output: </p>\n",
    "\n",
    "<p> for countdown in range(10, 0, -1):\n",
    "<br>&nbsp;&nbsp;&nbsp;&nbsp;&nbsp; print(countdown) </p>"
   ]
  },
  {
   "cell_type": "markdown",
   "metadata": {},
   "source": [
    "<p> Q6) Determine output: </p>\n",
    "\n",
    "<p>for ch in \"Python\":\n",
    "<br>&nbsp;&nbsp;&nbsp;&nbsp;&nbsp; continue\n",
    "<br>print(ch) </p>"
   ]
  },
  {
   "cell_type": "markdown",
   "metadata": {},
   "source": [
    "<p> Q7) Determine output: </p>\n",
    "\n",
    "<p>for ch in \"Python\":\n",
    "<br>&nbsp;&nbsp;&nbsp;&nbsp;&nbsp; break\n",
    "<br>print(ch) </p>"
   ]
  },
  {
   "cell_type": "markdown",
   "metadata": {},
   "source": [
    "<p> Q8) Find and correct all errors: </p>\n",
    "\n",
    "<p>for i in range(1, 26, -1):\n",
    "<br>&nbsp;&nbsp;&nbsp;&nbsp;&nbsp; print(i) </p>"
   ]
  },
  {
   "cell_type": "markdown",
   "metadata": {},
   "source": [
    "<p> Q9) Find and correct all errors: </p>\n",
    "\n",
    "<p>for i in range(1, 4):\n",
    "<br>&nbsp;&nbsp;&nbsp;&nbsp;&nbsp; print(i + \" \" + 2**i) </p>"
   ]
  },
  {
   "cell_type": "markdown",
   "metadata": {},
   "source": [
    "<p> Q10) Find and correct all errors: </p>\n",
    "\n",
    "<p>for i in range(20, 0):\n",
    "<br>&nbsp;&nbsp;&nbsp;&nbsp;&nbsp; if i != 13:\n",
    "<br>print(i) </p>"
   ]
  },
  {
   "cell_type": "code",
   "execution_count": null,
   "metadata": {},
   "outputs": [],
   "source": []
  }
 ],
 "metadata": {
  "kernelspec": {
   "display_name": "Python 3",
   "language": "python",
   "name": "python3"
  },
  "language_info": {
   "codemirror_mode": {
    "name": "ipython",
    "version": 3
   },
   "file_extension": ".py",
   "mimetype": "text/x-python",
   "name": "python",
   "nbconvert_exporter": "python",
   "pygments_lexer": "ipython3",
   "version": "3.7.4"
  }
 },
 "nbformat": 4,
 "nbformat_minor": 2
}
