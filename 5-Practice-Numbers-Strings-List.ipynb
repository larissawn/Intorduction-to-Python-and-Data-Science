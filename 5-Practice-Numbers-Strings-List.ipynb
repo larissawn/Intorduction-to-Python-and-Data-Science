{
 "cells": [
  {
   "cell_type": "markdown",
   "metadata": {},
   "source": [
    "<h3> Practice</h3>\n",
    "<a id =\"lab\"> </a>"
   ]
  },
  {
   "cell_type": "markdown",
   "metadata": {},
   "source": [
    "<p> Q1) find the result of the following equation: </p>\n",
    "\n",
    "<p>3*4 </p>\n",
    "<p>3**4 + 10 </p>\n",
    "<p>1/(2**3) + 8 </p>\n",
    "<p>(3 + 5*2)**2 </p>\n",
    "<p>1.2 * 3^4 + (5400) </p>"
   ]
  },
  {
   "cell_type": "code",
   "execution_count": null,
   "metadata": {},
   "outputs": [],
   "source": []
  },
  {
   "cell_type": "markdown",
   "metadata": {},
   "source": [
    "<p> Q2) Calculate the integer (//) and modulus (%) division of 8 by 3 and 5 by 5. </p>"
   ]
  },
  {
   "cell_type": "code",
   "execution_count": null,
   "metadata": {},
   "outputs": [],
   "source": []
  },
  {
   "cell_type": "markdown",
   "metadata": {},
   "source": [
    "<p> Q3) Use print() and type() functions to print values and type of the following expressions: </p>\n",
    "\n",
    "<p>3**2 + 1 </p>\n",
    "<p>1/(3**3) + 18 </p>"
   ]
  },
  {
   "cell_type": "code",
   "execution_count": null,
   "metadata": {},
   "outputs": [],
   "source": []
  },
  {
   "cell_type": "markdown",
   "metadata": {},
   "source": [
    "<p> Q4) Bring 3 to power 8 (show both way how it can be done): </p>"
   ]
  },
  {
   "cell_type": "code",
   "execution_count": null,
   "metadata": {},
   "outputs": [],
   "source": []
  },
  {
   "cell_type": "markdown",
   "metadata": {},
   "source": [
    "<p> Q5) Cast 1.25 to integer data type: </p>"
   ]
  },
  {
   "cell_type": "code",
   "execution_count": null,
   "metadata": {},
   "outputs": [],
   "source": []
  },
  {
   "cell_type": "markdown",
   "metadata": {},
   "source": [
    "<p> Q6) Cast 125 to float data type: </p>"
   ]
  },
  {
   "cell_type": "code",
   "execution_count": null,
   "metadata": {},
   "outputs": [],
   "source": []
  },
  {
   "cell_type": "markdown",
   "metadata": {},
   "source": [
    "<p> Q7) Evalueate boolean expressions: </p>\n",
    "<p> (20 > 35) and (68/3 < 13)  </p>\n",
    "<p> (20 > 35) or (68/3 < 13) </p>\n",
    "<p> not(20 > 35) </p>"
   ]
  },
  {
   "cell_type": "code",
   "execution_count": null,
   "metadata": {},
   "outputs": [],
   "source": []
  },
  {
   "cell_type": "markdown",
   "metadata": {},
   "source": [
    "<p> Q7) Create Array with 5 intagers and print its type. </p>"
   ]
  },
  {
   "cell_type": "code",
   "execution_count": null,
   "metadata": {},
   "outputs": [],
   "source": []
  },
  {
   "cell_type": "markdown",
   "metadata": {},
   "source": [
    "<p> Q8) Create Array with 3 strings and print its type. </p>"
   ]
  },
  {
   "cell_type": "code",
   "execution_count": null,
   "metadata": {},
   "outputs": [],
   "source": []
  },
  {
   "cell_type": "markdown",
   "metadata": {},
   "source": [
    "## String"
   ]
  },
  {
   "cell_type": "markdown",
   "metadata": {},
   "source": [
    "<p> Q1) Determine the value of the expressions: </p>\n",
    "\n",
    "<p>\"Python\"[4] </p>\n",
    "<p>\"Python\"[-3]</p>\n",
    "<p>\"Python\"[0:3]</p>\n",
    "<p>\"Python\"[:2]</p>\n",
    "<p>\"Python\"[-3:-2]</p>\n",
    "<p>\"Python\"[2:-2]</p>\n",
    "<p>\"Python\"[:]</p>\n",
    "<p>\"Python\".find(\"tho\")</p>\n",
    "<p>\"Python\".find(\"t\")</p>\n",
    "<p>\"whippersnapper\".rfind(\"pp\")</p>\n",
    "<p>\"Mississippi\".find(\"ss\")</p>\n",
    "<p>\"Python\".count(\"s\")</p>\n",
    "<p>\"Python\".upper()</p>\n",
    "<p>\"Python\".lower()</p>\n",
    "<p>len(\"Python\")</p>\n",
    "<p>\"Python\"[3:len(\"Python\")]</p>\n",
    "<p>\"let it go\".title().find(\"G\")</p>\n",
    "<p>\"Amazon\".lower().count(\"a\")</p>\n",
    "<p>\"king kONG\".title()</p>"
   ]
  },
  {
   "cell_type": "code",
   "execution_count": null,
   "metadata": {},
   "outputs": [],
   "source": []
  },
  {
   "cell_type": "markdown",
   "metadata": {},
   "source": [
    "<p> Q2) Determine output: </p>\n",
    "<p> m = 4 </p>\n",
    "<p> n = 3 </p>\n",
    "<p> s = \"Microsoft\" </p>\n",
    "<p> t = \"soft\" </p>\n",
    "<p> print(len(s))</p>\n",
    "<p> print(s.lower())</p>\n",
    "<p> print(s[m:m+2])</p>\n",
    "<p> print(s.find(t))</p>\n",
    "\n",
    "<p> print(\"Your age is \" + str(21) + \".\")</p>\n",
    "<p> print(\"Fred has \" + str(3) + \"children.\")</p>\n",
    "<p> print(\"F\" + (\"m\" * 6) + \".\")</p>\n",
    "<p> print(\"a\" + (\" \" * 5) + \"b\")</p>\n",
    "<p> print(\"spam\" * 5)</p>"
   ]
  },
  {
   "cell_type": "code",
   "execution_count": null,
   "metadata": {},
   "outputs": [],
   "source": []
  },
  {
   "cell_type": "markdown",
   "metadata": {},
   "source": [
    "<p> Q3) Determine output: </p>\n",
    "\n",
    "<p>r = \"A ROSE\" </p>\n",
    "<p>b = \" IS \" </p>\n",
    "<p>print(r + b + r + b + r) </p>"
   ]
  },
  {
   "cell_type": "code",
   "execution_count": null,
   "metadata": {},
   "outputs": [],
   "source": []
  },
  {
   "cell_type": "markdown",
   "metadata": {},
   "source": [
    "<p> Q4) Determine output: </p>\n",
    "\n",
    "<p>var = \"A ROSE\" </p>\n",
    "<p> var += var </p>\n",
    "<p>print(var) </p>"
   ]
  },
  {
   "cell_type": "code",
   "execution_count": null,
   "metadata": {},
   "outputs": [],
   "source": []
  },
  {
   "cell_type": "markdown",
   "metadata": {},
   "source": [
    "<p> Q5) Determine output: </p>\n",
    "\n",
    "<p>num = input(\"Enter the integer: \") </p>\n",
    "<p>print(\"1\" + str(num)) </p>\n",
    "<p><i>(Assume the response is 8.)</i></p>"
   ]
  },
  {
   "cell_type": "code",
   "execution_count": null,
   "metadata": {},
   "outputs": [],
   "source": []
  },
  {
   "cell_type": "markdown",
   "metadata": {},
   "source": [
    "<p> Q6) Determine output: </p>\n",
    "\n",
    "<p>num = eval(input(\"Enter the number: \")) </p>\n",
    "<p>print(1 + num) </p>\n",
    "<p><i>(Assume the response is 8.)</i></p>"
   ]
  },
  {
   "cell_type": "code",
   "execution_count": null,
   "metadata": {},
   "outputs": [],
   "source": []
  },
  {
   "cell_type": "markdown",
   "metadata": {},
   "source": [
    "<p> Q7) Find and correct all errors: </p>\n",
    "\n",
    "<p>phoneNumber = 234-5678</p>\n",
    "<p>print(\"My phone number is \" + phoneNumber) </p>"
   ]
  },
  {
   "cell_type": "code",
   "execution_count": null,
   "metadata": {},
   "outputs": [],
   "source": []
  },
  {
   "cell_type": "markdown",
   "metadata": {},
   "source": [
    "<p> Q8) Find and correct all errors: </p>\n",
    "\n",
    "<p>quote = I came to Casablanca for the waters.</p>\n",
    "<p>print(quote + \": \"Bogart\") </p>"
   ]
  },
  {
   "cell_type": "code",
   "execution_count": null,
   "metadata": {},
   "outputs": [],
   "source": []
  },
  {
   "cell_type": "markdown",
   "metadata": {},
   "source": [
    "<p> Q9) Find and correct all errors: </p>\n",
    "\n",
    "<p>for = \"happily ever after\"</p>\n",
    "<p>print(\"They lived \" + for) </p>"
   ]
  },
  {
   "cell_type": "code",
   "execution_count": null,
   "metadata": {},
   "outputs": [],
   "source": []
  },
  {
   "cell_type": "markdown",
   "metadata": {},
   "source": [
    "<p> Q10) Find and correct all errors: </p>\n",
    "\n",
    "<p>age = 19</p>\n",
    "<p>print(\"Age \" + age) </p>"
   ]
  },
  {
   "cell_type": "code",
   "execution_count": null,
   "metadata": {},
   "outputs": [],
   "source": []
  },
  {
   "cell_type": "markdown",
   "metadata": {},
   "source": [
    "<p> Q11) Find and correct all errors: </p>\n",
    "\n",
    "<p> num = 1234</p>\n",
    "<p>print(num[3]) </p>"
   ]
  },
  {
   "cell_type": "code",
   "execution_count": null,
   "metadata": {},
   "outputs": [],
   "source": []
  },
  {
   "cell_type": "markdown",
   "metadata": {},
   "source": [
    "<p> Q12) Determine output: </p>\n",
    "\n",
    "<p> print(\"Py\", \"th\", \"on\", sep=\"\")</p>\n",
    "<p> print(1, 2, 3, sep=\"x\") </p>\n",
    "<p> print(\"tic\", \"tac\", \"toe\", sep=\"-\")</p>\n",
    "<p> print(\"one\", \"two\", \"three\", sep=\",\")</p>\n",
    "<p> print(\"Hello\\n\") print(\"World\")</p>\n",
    "<p> print(\"One\\tTwo\\tThree\\tFour\")</p>\n",
    "<p> print(\"1\\t2\\t3\\t4\")</p>\n",
    "<p> print(\"Hello\\nWorld\")</p>\n",
    "<p> print(\"Hello\\nWorld\".expandtabs(16))</p>"
   ]
  },
  {
   "cell_type": "code",
   "execution_count": null,
   "metadata": {},
   "outputs": [],
   "source": []
  },
  {
   "cell_type": "markdown",
   "metadata": {},
   "source": [
    "<p> Q13) Determine output: </p>\n",
    "\n",
    "<p> print(\"01234567890123456\")</p>\n",
    "<p> print(\"{0:>5s}{1:^5s}{2:5s}\".format(\"A\",\"B\", \"C\"))</p>"
   ]
  },
  {
   "cell_type": "code",
   "execution_count": null,
   "metadata": {},
   "outputs": [],
   "source": []
  },
  {
   "cell_type": "raw",
   "metadata": {},
   "source": [
    "%%markdown\n",
    "<p> Q14) Determine output: </p>\n",
    "<p>print(\"0123456789\")</p>\n",
    "<p>print(\"{0:10.2%}\".format(0.123))</p>\n",
    "<p>print(\"{0:^10.1%}\".format(1.23))</p>\n",
    "<p>print(\"{0:<10,.2%}\".format(12.3))</p>b\n"
   ]
  },
  {
   "cell_type": "code",
   "execution_count": null,
   "metadata": {},
   "outputs": [],
   "source": []
  },
  {
   "cell_type": "raw",
   "metadata": {},
   "source": [
    "<p> Q15) Determine output: </p>\n",
    "\n",
    "<p> print(\"${0:,.2f}\".format(1234.567))</p>\n",
    "<p> print(\"{0:,.0f}\".format(1234.567))</p>\n",
    "<p> print(\"{0:,.0f}\".format(1.234567))</p>\n",
    "<p> print(\"${0:,.2f}\".format(1234567))</p>\n",
    "\n",
    "<p> print(\"{0:10s}{1:^16,d}{2:10.2%}\".format(\"Spanish\",38700000000, 0.0585))</p>"
   ]
  },
  {
   "cell_type": "code",
   "execution_count": null,
   "metadata": {},
   "outputs": [],
   "source": []
  },
  {
   "cell_type": "markdown",
   "metadata": {},
   "source": [
    "## List"
   ]
  },
  {
   "cell_type": "markdown",
   "metadata": {},
   "source": [
    "<p> Q1) Create the list nums = [6,2,8,0] </p>\n",
    "\n",
    "<p> print(\"Largest Number :\", max(nums)) </p>\n",
    "<p> print(\"Length :\", len(nums)) </p>\n",
    "<p> print(\"Total :\", sum(nums)) </p>\n",
    "<p> print(\"Number lot :\", sum(nums)/list(nums)) </p>"
   ]
  },
  {
   "cell_type": "code",
   "execution_count": null,
   "metadata": {},
   "outputs": [],
   "source": []
  },
  {
   "cell_type": "markdown",
   "metadata": {},
   "source": [
    "<p> Q2) </p>\n",
    "\n",
    "<p> L = [\"one\", \"for\", \"all\"] </p>\n",
    "<p> L[0], L[-1] = L[-1], L[0]  </p>\n",
    "<p> print(L) </p>"
   ]
  },
  {
   "cell_type": "code",
   "execution_count": null,
   "metadata": {},
   "outputs": [],
   "source": []
  },
  {
   "cell_type": "markdown",
   "metadata": {},
   "source": [
    "<p> Q3) </p>\n",
    "\n",
    "<p> nations = \"France\\nEngland\\nSpain\\n\" </p>\n",
    "<p> countries = nations.split()  </p>\n",
    "<p> print(countries) </p>"
   ]
  },
  {
   "cell_type": "code",
   "execution_count": null,
   "metadata": {},
   "outputs": [],
   "source": []
  },
  {
   "cell_type": "markdown",
   "metadata": {},
   "source": [
    "<p> Q4) </p>\n",
    "\n",
    "<p> allDay = \"around-the-clock\" </p>\n",
    "<p> print(allDay.split('-')) </p>"
   ]
  },
  {
   "cell_type": "code",
   "execution_count": null,
   "metadata": {},
   "outputs": [],
   "source": []
  },
  {
   "cell_type": "markdown",
   "metadata": {},
   "source": [
    "<p> Q5) </p>\n",
    "\n",
    "<p> nums = (3, 9, 6) </p>\n",
    "<p> print(list(nums)) </p>"
   ]
  },
  {
   "cell_type": "code",
   "execution_count": null,
   "metadata": {},
   "outputs": [],
   "source": []
  },
  {
   "cell_type": "markdown",
   "metadata": {},
   "source": [
    "<p> Q6) </p>\n",
    "\n",
    "<p> nums = [3, 9, 6] </p>\n",
    "<p> print(tuple(nums)) </p>"
   ]
  },
  {
   "cell_type": "code",
   "execution_count": null,
   "metadata": {},
   "outputs": [],
   "source": []
  },
  {
   "cell_type": "markdown",
   "metadata": {},
   "source": [
    "<p> Q7) </p>\n",
    "\n",
    "<p> list1 = [\"mur\"]*2 </p>\n",
    "<p> print(\"\".join(list1)) </p>"
   ]
  },
  {
   "cell_type": "code",
   "execution_count": null,
   "metadata": {},
   "outputs": [],
   "source": []
  },
  {
   "cell_type": "markdown",
   "metadata": {},
   "source": [
    "<p> Q8) </p>\n",
    "\n",
    "<p> list1 = [0] </p>\n",
    "<p> print(list1*4) </p>"
   ]
  },
  {
   "cell_type": "code",
   "execution_count": null,
   "metadata": {},
   "outputs": [],
   "source": []
  },
  {
   "cell_type": "markdown",
   "metadata": {},
   "source": [
    "<p> Q10) </p>\n",
    "\n",
    "<p> answer = [\"Yes\", \"No\",\"Yes\", \"No\", \"Maybe\"] </p>\n",
    "<p> loc = answer.index(\"No\") </p>\n",
    "<p> print(location) </p>"
   ]
  },
  {
   "cell_type": "code",
   "execution_count": null,
   "metadata": {},
   "outputs": [],
   "source": []
  },
  {
   "cell_type": "markdown",
   "metadata": {},
   "source": [
    "## Sets"
   ]
  },
  {
   "cell_type": "markdown",
   "metadata": {},
   "source": [
    "Q1) Write a program that creates a set (named numbers), that includes the numbers 1,2,3,4,5. "
   ]
  },
  {
   "cell_type": "code",
   "execution_count": null,
   "metadata": {},
   "outputs": [],
   "source": []
  },
  {
   "cell_type": "markdown",
   "metadata": {},
   "source": [
    "Q2) Write a program the adds the integers [6,7,8] from a list named list1 to the set numbers."
   ]
  },
  {
   "cell_type": "code",
   "execution_count": null,
   "metadata": {},
   "outputs": [],
   "source": []
  },
  {
   "cell_type": "markdown",
   "metadata": {},
   "source": [
    "Q3) Write a program that displays the union and the intersection between the following two sets: \n",
    "set1 -> {1,2,3,4,5} \n",
    "set2 -> {2,3,8,10} "
   ]
  },
  {
   "cell_type": "code",
   "execution_count": null,
   "metadata": {},
   "outputs": [],
   "source": []
  },
  {
   "cell_type": "markdown",
   "metadata": {},
   "source": [
    "Q4) Write a program to display if set1 is a subset of set2."
   ]
  },
  {
   "cell_type": "code",
   "execution_count": null,
   "metadata": {},
   "outputs": [],
   "source": []
  },
  {
   "cell_type": "markdown",
   "metadata": {},
   "source": [
    "<p> Q5) Create Set of 5 intagers and print its type. </p>"
   ]
  },
  {
   "cell_type": "code",
   "execution_count": null,
   "metadata": {},
   "outputs": [],
   "source": []
  },
  {
   "cell_type": "markdown",
   "metadata": {},
   "source": [
    "<p> Q6) Create Set of 3 strings and print its type. </p>"
   ]
  },
  {
   "cell_type": "code",
   "execution_count": null,
   "metadata": {},
   "outputs": [],
   "source": []
  },
  {
   "cell_type": "markdown",
   "metadata": {},
   "source": [
    "## Tuple"
   ]
  },
  {
   "cell_type": "markdown",
   "metadata": {},
   "source": [
    "<p> Q1) Create Tuple of 5 intagers and print its type. </p>"
   ]
  },
  {
   "cell_type": "code",
   "execution_count": null,
   "metadata": {},
   "outputs": [],
   "source": []
  },
  {
   "cell_type": "markdown",
   "metadata": {},
   "source": [
    "<p> Q2) Write a tuple that is named tuple1 and that contains the items ('John', True, 0, 1.6). </p>"
   ]
  },
  {
   "cell_type": "code",
   "execution_count": null,
   "metadata": {},
   "outputs": [],
   "source": []
  },
  {
   "cell_type": "markdown",
   "metadata": {},
   "source": [
    "Q3) Write a program that initiate the variables cost1, cost2, and costs 3 and assigns them the values 15.7, 22.4, 65.1 respectively in one line"
   ]
  },
  {
   "cell_type": "code",
   "execution_count": null,
   "metadata": {},
   "outputs": [],
   "source": []
  },
  {
   "cell_type": "markdown",
   "metadata": {},
   "source": [
    "Q4) Write a program that finds the index of the item 1.6 in the tuple tuple1. "
   ]
  },
  {
   "cell_type": "code",
   "execution_count": null,
   "metadata": {},
   "outputs": [],
   "source": []
  },
  {
   "cell_type": "markdown",
   "metadata": {},
   "source": [
    "Q5) Write a program that converts the tuple words into a string. words = {'Hello', 'Python'} \n",
    "Hint: use join() method."
   ]
  },
  {
   "cell_type": "code",
   "execution_count": null,
   "metadata": {},
   "outputs": [],
   "source": []
  },
  {
   "cell_type": "markdown",
   "metadata": {},
   "source": [
    "## Dictionary"
   ]
  },
  {
   "cell_type": "markdown",
   "metadata": {},
   "source": [
    "<p> Q1) Create Dictinary with 5 elements where key is country 2 letter abbriviations and country name as its values. </p>"
   ]
  },
  {
   "cell_type": "code",
   "execution_count": null,
   "metadata": {},
   "outputs": [],
   "source": []
  },
  {
   "cell_type": "markdown",
   "metadata": {},
   "source": [
    "Q2) Given a Python dictionary, Change Brad’s salary to 8500"
   ]
  },
  {
   "cell_type": "code",
   "execution_count": null,
   "metadata": {},
   "outputs": [],
   "source": [
    "sampleDict = {\n",
    "     'emp1': {'name': 'Jhon', 'salary': 7500},\n",
    "     'emp2': {'name': 'Emma', 'salary': 8000},\n",
    "     'emp3': {'name': 'Brad', 'salary': 6500}\n",
    "}"
   ]
  },
  {
   "cell_type": "markdown",
   "metadata": {},
   "source": [
    "Q3) Try to do the followings for Inventory dictionary:\n",
    "\n",
    "Add a key to inventory called 'pocket'.\n",
    "\n",
    "Set the value of 'pocket' to be a list consisting of the strings 'seashell', 'strange berry', and 'lint'.\n",
    "\n",
    ".sort() the items in the list stored under the 'backpack' key.\n",
    "\n",
    "Then .remove('dagger') from the list of items stored under the 'backpack' key.\n",
    "\n",
    "Add 50 to the number stored under the 'gold' key."
   ]
  },
  {
   "cell_type": "code",
   "execution_count": null,
   "metadata": {},
   "outputs": [],
   "source": [
    "inventory = {\n",
    "    'gold' : 500,\n",
    "    'pouch' : ['flint', 'twine', 'gemstone'],\n",
    "    'backpack' : ['xylophone','dagger', 'bedroll','bread loaf']\n",
    "}"
   ]
  },
  {
   "cell_type": "code",
   "execution_count": null,
   "metadata": {},
   "outputs": [],
   "source": []
  }
 ],
 "metadata": {
  "kernelspec": {
   "display_name": "Python 3",
   "language": "python",
   "name": "python3"
  },
  "language_info": {
   "codemirror_mode": {
    "name": "ipython",
    "version": 3
   },
   "file_extension": ".py",
   "mimetype": "text/x-python",
   "name": "python",
   "nbconvert_exporter": "python",
   "pygments_lexer": "ipython3",
   "version": "3.7.4"
  }
 },
 "nbformat": 4,
 "nbformat_minor": 2
}
