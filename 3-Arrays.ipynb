{
 "cells": [
  {
   "cell_type": "markdown",
   "metadata": {},
   "source": [
    "# Working with Array"
   ]
  },
  {
   "cell_type": "markdown",
   "metadata": {},
   "source": [
    "<h3> Table of Contents </h3>\n",
    "\n",
    "<div style=\"margin-top: 20px\">\n",
    "    <ul>\n",
    "        <li><a href=\"#arrays\">Arrays</a>\n",
    "        <li><a href=\"#function\">Array function and methods</a></li>\n",
    "        <li><a href=\"#lab\">Practice Assignment</a></li>\n",
    "            </ul>\n",
    "       \n",
    "</div>"
   ]
  },
  {
   "cell_type": "markdown",
   "metadata": {},
   "source": [
    "<h3> Arrays </h3>\n",
    "<a id=\"arrays\"></a>\n",
    "\n",
    "<p> Arrays are like sequence of elements. But, the elements have to be the same type. Although arrays are well known in other programming languages (C, C++, C#, Javascript, etc.). In Python, arrays are not common, they are just lists with special characteristic in that its items have to be numeric and of the same type. Python Programmers usually refer to lists when they deal with arrays, but Python offers a library called arrays, that offers some flexibility and functionality of working with arrays. </p> \n",
    "\n",
    "<p> To create an array, you need to import the arrays module/library. The cell below shows an example of creating an array. </p>"
   ]
  },
  {
   "cell_type": "code",
   "execution_count": 13,
   "metadata": {},
   "outputs": [
    {
     "name": "stdout",
     "output_type": "stream",
     "text": [
      "[1 2 3 4]\n",
      "<class 'numpy.ndarray'>\n",
      "[1.2 3.5 4.4 2. ]\n",
      "<class 'numpy.ndarray'>\n",
      "['Helo' 'World' '!']\n",
      "<class 'numpy.ndarray'>\n"
     ]
    }
   ],
   "source": [
    "import numpy as np #imports the array module to be able to use its functions\n",
    "\n",
    "numbers = np.array([1,2,3,4]) #creates and array of type integer,\n",
    "# then specifies the array content as (1,2,3,4)\n",
    "\n",
    "print(numbers)\n",
    "print(type(numbers)) #prints the type of variable numbers. In this case it prints Array\n",
    "\n",
    "prices = np.array([1.2, 3.5, 4.4, 2.0]) #creates and array of type float,\n",
    "# with content as (1.2,3.5,4.4, 2.0)\n",
    "\n",
    "print(prices) # prints the array. In this case [1.2, 3.5, 4.4, 2.0]\n",
    "print(type(prices))\n",
    "\n",
    "\n",
    "s = np.array(['Helo', 'World' , '!']) #creates and array of type string,\n",
    "print(s) # prints the string array. \n",
    "print(type(s))"
   ]
  },
  {
   "cell_type": "markdown",
   "metadata": {},
   "source": [
    "<p> You can use indexing and slicing to access an array item or a subarray. </p>\n",
    "<p> For example: </p>"
   ]
  },
  {
   "cell_type": "code",
   "execution_count": 4,
   "metadata": {
    "scrolled": false
   },
   "outputs": [
    {
     "name": "stdout",
     "output_type": "stream",
     "text": [
      "4\n",
      "3\n",
      "[3 4]\n"
     ]
    }
   ],
   "source": [
    "print(numbers[3]) # prints 4\n",
    "print(numbers[-2]) # prints -2\n",
    "print(numbers[2:4]) # prints array([3,4])"
   ]
  },
  {
   "cell_type": "markdown",
   "metadata": {},
   "source": [
    "<h3> Array functions and methods </h3>\n",
    "<a id=\"function\"></a>\n",
    "<p> Functions and methods that applys to arrays are the same as the ones applies to lists. </p>\n",
    "<p> Below are some examples. </p>"
   ]
  },
  {
   "cell_type": "code",
   "execution_count": 5,
   "metadata": {},
   "outputs": [
    {
     "name": "stdout",
     "output_type": "stream",
     "text": [
      "4\n"
     ]
    }
   ],
   "source": [
    "# len() function in arrays\n",
    "print(len(numbers)) #prints 4"
   ]
  },
  {
   "cell_type": "code",
   "execution_count": 8,
   "metadata": {},
   "outputs": [
    {
     "data": {
      "text/plain": [
       "array([[1, 1],\n",
       "       [2, 2],\n",
       "       [3, 3]])"
      ]
     },
     "execution_count": 8,
     "metadata": {},
     "output_type": "execute_result"
    }
   ],
   "source": [
    "# add element to the array \n",
    "# Create the array\n",
    "a = np.array([[1, 1], [2, 2], [3, 3]])\n",
    "a"
   ]
  },
  {
   "cell_type": "code",
   "execution_count": 10,
   "metadata": {},
   "outputs": [
    {
     "data": {
      "text/plain": [
       "array([[1, 5, 1],\n",
       "       [2, 5, 2],\n",
       "       [3, 5, 3]])"
      ]
     },
     "execution_count": 10,
     "metadata": {},
     "output_type": "execute_result"
    }
   ],
   "source": [
    "np.insert(a, 1, 5, axis=1)"
   ]
  },
  {
   "cell_type": "code",
   "execution_count": 12,
   "metadata": {},
   "outputs": [
    {
     "data": {
      "text/plain": [
       "array([[1, 2, 3],\n",
       "       [4, 5, 6],\n",
       "       [7, 8, 9]])"
      ]
     },
     "execution_count": 12,
     "metadata": {},
     "output_type": "execute_result"
    }
   ],
   "source": [
    "# append method\n",
    "np.append([[1, 2, 3], [4, 5, 6]], [[7, 8, 9]], axis=0)"
   ]
  },
  {
   "cell_type": "markdown",
   "metadata": {},
   "source": [
    "<p> From the examples, you saw that lists function, operations, and methods are the same as arrays. Then, what is the difference between the two?</p>\n",
    "<p> the difference is more technical, the way arrays and lists are saves in memory. First, arrays are saved in memopry in a compact way that allows it to be used in big data analysis. You do not need to know the details of memory usage and allocation differences between lists and arrays in this course. Second, arrays allow mathematical operations on the array items at once. You will see this in more details when studying the Numpy in a later week. </p>\n",
    "\n",
    "<p> So when should you use an array in Python </p>\n",
    "<ul> \n",
    "    <li> When you need to store and analyze big amounts of numbers for analysis. Such as in machine learning. You use arrays. </li>\n",
    "    <li> If you plan to do any numerical operations with your collection of items, use an array. </li>\n",
    "</ul>\n"
   ]
  },
  {
   "cell_type": "markdown",
   "metadata": {},
   "source": [
    "<h3> Practice Assignment </h3>\n",
    "<a id=\"lab\"></a>"
   ]
  },
  {
   "cell_type": "markdown",
   "metadata": {},
   "source": [
    "<p> Q1) Write a program that creates an array (named numbers) of the integers 1,2,5,3,4,5. Then print the values of each item using its index. </p>"
   ]
  },
  {
   "cell_type": "code",
   "execution_count": null,
   "metadata": {},
   "outputs": [],
   "source": []
  },
  {
   "cell_type": "markdown",
   "metadata": {},
   "source": [
    "<p> Q2) Write a program that reverse the order of the items of the array numbers and print the new ordered array. </p>"
   ]
  },
  {
   "cell_type": "code",
   "execution_count": null,
   "metadata": {},
   "outputs": [],
   "source": []
  },
  {
   "cell_type": "markdown",
   "metadata": {},
   "source": [
    "<p> Q3) Write a program that prints the number of instances of (5) in the array numbers. </p>"
   ]
  },
  {
   "cell_type": "code",
   "execution_count": null,
   "metadata": {},
   "outputs": [],
   "source": []
  },
  {
   "cell_type": "markdown",
   "metadata": {},
   "source": [
    "<p> Q4) Write a program that creates the array (names) that includes the items (\"Mike\", \"John\", \"Zara\"). <br>\n",
    "Then checks if the array has dplicate values. </p>\n",
    "\n",
    "Hint: Use the index to compare the items. You have to print the result of 3 comparisons."
   ]
  },
  {
   "cell_type": "code",
   "execution_count": null,
   "metadata": {},
   "outputs": [],
   "source": []
  },
  {
   "cell_type": "code",
   "execution_count": null,
   "metadata": {},
   "outputs": [],
   "source": []
  }
 ],
 "metadata": {
  "kernelspec": {
   "display_name": "Python 3",
   "language": "python",
   "name": "python3"
  },
  "language_info": {
   "codemirror_mode": {
    "name": "ipython",
    "version": 3
   },
   "file_extension": ".py",
   "mimetype": "text/x-python",
   "name": "python",
   "nbconvert_exporter": "python",
   "pygments_lexer": "ipython3",
   "version": "3.7.4"
  }
 },
 "nbformat": 4,
 "nbformat_minor": 2
}
