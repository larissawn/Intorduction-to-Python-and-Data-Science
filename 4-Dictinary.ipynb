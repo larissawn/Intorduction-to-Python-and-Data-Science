{
 "cells": [
  {
   "cell_type": "markdown",
   "metadata": {},
   "source": [
    "# Working with Dictinary"
   ]
  },
  {
   "cell_type": "markdown",
   "metadata": {},
   "source": [
    "## Table of Content"
   ]
  },
  {
   "cell_type": "markdown",
   "metadata": {},
   "source": [
    "<div style=\"margin-top: 20px\">\n",
    "    <ul>\n",
    "        <li><a href=\"#dict\">Dictionaries</a>\n",
    "        <li><a href=\"#methods\">Dictionary methods</a></li>\n",
    "        <li><a href=\"#lab\">Lab Assignment</a></li>\n",
    "            </ul>\n",
    "       \n",
    "</div>"
   ]
  },
  {
   "cell_type": "markdown",
   "metadata": {},
   "source": [
    "<h3> Dictionaries </h3> \n",
    "<a id=\"dict\"></a>\n",
    "\n",
    "<p> Dictionaries are more general collection of item. Items in dictionaries are ordered using keys which can be numeric or strings. While, in lists items are ordered numerically using the index. </p>\n",
    "<p> Programmers see a dictionary as a map between a set of indices (named keys) and a set of values. This mapping between the keys and the values is called key-value pair. </p>\n",
    "<p> The cell below shows examples of creating a dictionary </p>"
   ]
  },
  {
   "cell_type": "code",
   "execution_count": 1,
   "metadata": {},
   "outputs": [],
   "source": [
    "# Dictionary examples\n",
    "# Example of a dictionary names with int indices.\n",
    "names = {1: 'Mike', 2:'Mary', 3:'John', 4: 'Sonya'}\n",
    "\n",
    "# Example of a dictionary movies_release_dates with string keys\n",
    "movies_release_dates = {'Inception': 2010, 'Thee Vow': 2010, 'Fifty Shades of Grey': 2015}\n",
    "\n",
    "# Example of a dictionary Dict1 with mixed keys\n",
    "Dict1 = {'Key1': 1, 2: ['item1', 'item2'], (0,1): 5}"
   ]
  },
  {
   "cell_type": "markdown",
   "metadata": {},
   "source": [
    "<p> Items in a dictionary are accessed using the <b>key</b> of that item. </p>"
   ]
  },
  {
   "cell_type": "code",
   "execution_count": 2,
   "metadata": {},
   "outputs": [
    {
     "name": "stdout",
     "output_type": "stream",
     "text": [
      "<class 'dict'>\n",
      "{'Inception': 2010, 'Thee Vow': 2010, 'Fifty Shades of Grey': 2015}\n",
      "2010\n"
     ]
    }
   ],
   "source": [
    "# Example of accessing a value of a dictionary\n",
    "movies_release_dates = {'Inception': 2010, 'Thee Vow': 2010, 'Fifty Shades of Grey': 2015}\n",
    "print(type(movies_release_dates))\n",
    "print(movies_release_dates)\n",
    "print(movies_release_dates['Inception']) # access the item with key 'Inception'"
   ]
  },
  {
   "cell_type": "markdown",
   "metadata": {},
   "source": [
    "<p> To get a list of keys of a dictionary, you can use the <b>keys()</b> mothod. For example: </p>"
   ]
  },
  {
   "cell_type": "code",
   "execution_count": 3,
   "metadata": {},
   "outputs": [
    {
     "data": {
      "text/plain": [
       "dict_keys(['Inception', 'Thee Vow', 'Fifty Shades of Grey'])"
      ]
     },
     "execution_count": 3,
     "metadata": {},
     "output_type": "execute_result"
    }
   ],
   "source": [
    "movies_release_dates.keys() # prints a list of the keys. It prints dict_keys(['Inception', 'The Vow', 'Fifty Shades of Grey'])"
   ]
  },
  {
   "cell_type": "code",
   "execution_count": 4,
   "metadata": {},
   "outputs": [
    {
     "name": "stdout",
     "output_type": "stream",
     "text": [
      "{'Inception': 2020, 'Thee Vow': 2010, 'Fifty Shades of Grey': 2015}\n",
      "{'Inception': 2020, 'Thee Vow': 2010, 'Fifty Shades of Grey': 2015, 'Gladiator': 2009}\n"
     ]
    }
   ],
   "source": [
    "# Example of editing or adding an entry to dictionary\n",
    "movies_release_dates['Inception'] = 2020 # the key inception exists. Python edits the value to be 2020\n",
    "print(movies_release_dates)\n",
    "\n",
    "movies_release_dates['Gladiator'] = 2009 # the key Gladiator does not exist. Python adds the key and the value to the end of the dictionary\n",
    "print(movies_release_dates)"
   ]
  },
  {
   "cell_type": "markdown",
   "metadata": {},
   "source": [
    "<h3> Dictionary Methods </h3>\n",
    "<a id=\"methods\"></a>\n",
    "<p> Like other types of objects, dictionaries have predefined methods. The cells bellow, illustrates the methods with examples. </p>"
   ]
  },
  {
   "cell_type": "code",
   "execution_count": 5,
   "metadata": {},
   "outputs": [
    {
     "name": "stdout",
     "output_type": "stream",
     "text": [
      "{}\n"
     ]
    }
   ],
   "source": [
    "# clear() method: removes all key-value pairs (items) from the dictionary\n",
    "names = {1: 'Mike', 2:'Mary', 3:'John', 4: 'Sonya'}\n",
    "names.clear() \n",
    "print(names) # prints an empty dictionary {}"
   ]
  },
  {
   "cell_type": "code",
   "execution_count": 6,
   "metadata": {
    "scrolled": true
   },
   "outputs": [
    {
     "name": "stdout",
     "output_type": "stream",
     "text": [
      "{1: 'Mike', 2: 'Mary', 3: 'John', 4: 'Sonya'}\n",
      "{1: 'Mike', 2: 'Mary', 3: 'John', 4: 'Sonya'}\n"
     ]
    }
   ],
   "source": [
    "# copy() method: returns a copy of a dictionary. \n",
    "names = {1: 'Mike', 2:'Mary', 3:'John', 4: 'Sonya'}\n",
    "names2 = names.copy()\n",
    "print(names2)\n",
    "# names is copied by value. Any change in names2 will not affect names and vice-versa\n",
    "# For example: if we clear names2, names will not be affected.\n",
    "names2.clear()\n",
    "print(names)"
   ]
  },
  {
   "cell_type": "code",
   "execution_count": 7,
   "metadata": {
    "scrolled": true
   },
   "outputs": [
    {
     "name": "stdout",
     "output_type": "stream",
     "text": [
      "{1: 'Mike', 2: 'Mary', 3: 'John', 4: 'Sonya'}\n",
      "{1: 'Mike', 2: 'Mary', 3: 'John', 4: 'Sonya'}\n"
     ]
    }
   ],
   "source": [
    "# dict() methods: this is another way of copying a dictionary by value\n",
    "names = {1: 'Mike', 2:'Mary', 3:'John', 4: 'Sonya'}\n",
    "names2 = dict(names)\n",
    "print(names2)\n",
    "names2.clear()\n",
    "print(names)"
   ]
  },
  {
   "cell_type": "code",
   "execution_count": 8,
   "metadata": {},
   "outputs": [
    {
     "name": "stdout",
     "output_type": "stream",
     "text": [
      "{'a': 'value for testing', 'b': 'value for testing', 'c': 'value for testing'}\n"
     ]
    }
   ],
   "source": [
    "# fromkeys() method: returns a dictionary with defined keys and values\n",
    "keys_collection = ['a', 'b', 'c']\n",
    "value_collection = \"value for testing\"\n",
    "new_dictionary = dict.fromkeys(keys_collection, value_collection)\n",
    "# generate a dictionary. The keys are 'a', 'b', and 'c'. The value for each key is 'value for testing'\n",
    "print(new_dictionary) \n",
    "# prints {'a': 'value for testing', 'b': 'value for testing', 'c': 'value for testing'}"
   ]
  },
  {
   "cell_type": "code",
   "execution_count": 9,
   "metadata": {},
   "outputs": [
    {
     "name": "stdout",
     "output_type": "stream",
     "text": [
      "John\n",
      "None\n",
      "Not in the dictionary\n"
     ]
    }
   ],
   "source": [
    "#get() method: returns the value of a specific key\n",
    "names = {1: 'Mike', 2:'Mary', 3:'John', 4: 'Sonya'}\n",
    "print(names.get(3)) #returns 'John'\n",
    "# if the key does not exist, the system will return 'None' or any value specified by the programmer\n",
    "print(names.get(5)) # prints None\n",
    "print(names.get(5, 'Not in the dictionary')) # prints \"Not in the dictionary\""
   ]
  },
  {
   "cell_type": "code",
   "execution_count": 10,
   "metadata": {},
   "outputs": [
    {
     "name": "stdout",
     "output_type": "stream",
     "text": [
      "{1: 'Mike', 3: 'John', 4: 'Sonya'}\n"
     ]
    }
   ],
   "source": [
    "# pop() method: removes the item of a specific key\n",
    "names = {1: 'Mike', 2:'Mary', 3:'John', 4: 'Sonya'}\n",
    "names.pop(2) # removes the item with the key 2. 2:'Mary' in this case\n",
    "print(names) #prints {1:'Mike', 3:'John', 4:'Sonya'}\n"
   ]
  },
  {
   "cell_type": "code",
   "execution_count": 11,
   "metadata": {},
   "outputs": [
    {
     "name": "stdout",
     "output_type": "stream",
     "text": [
      "{1: 'Mike', 2: 'Mary', 3: 'John'}\n"
     ]
    }
   ],
   "source": [
    "#popitem() method: removes the last item added \n",
    "names = {1: 'Mike', 2:'Mary', 3:'John', 4: 'Sonya'}\n",
    "names.popitem() #removes the item 4:'Sonya'\n",
    "print(names) #print {1:'Mike', 2:'Mary', 3:'John'}"
   ]
  },
  {
   "cell_type": "code",
   "execution_count": 12,
   "metadata": {},
   "outputs": [
    {
     "name": "stdout",
     "output_type": "stream",
     "text": [
      "{1: 'Mike', 2: 'Mary', 3: 'John', 4: 'Sonya', 7: 'William'}\n"
     ]
    }
   ],
   "source": [
    "#setdefault() : returns a value for a specified key\n",
    "names = {1: 'Mike', 2:'Mary', 3:'John', 4: 'Sonya'}\n",
    "names.setdefault(3)\n",
    "# if the key does not exist, Python will generate a new item with the key and the value specified\n",
    "names.setdefault(7,'William') #this will add an item (7:'William')\n",
    "print(names) # prints {1: 'Mike', 2: 'Mary', 3: 'John', 4: 'Sonya', 7: 'William'}"
   ]
  },
  {
   "cell_type": "code",
   "execution_count": 13,
   "metadata": {},
   "outputs": [
    {
     "name": "stdout",
     "output_type": "stream",
     "text": [
      "{1: 'Mike', 2: 'Mary', 3: 'John', 4: 'Sonya', 7: 'William', 9: 'James'}\n"
     ]
    }
   ],
   "source": [
    "# update(): updates a dictionary by adding new items\n",
    "{1: 'Mike', 2: 'Mary', 3: 'John', 4: 'Sonya'}\n",
    "names.update({7:'William', 9: 'James'}) #adds the items (7:'William' and 9:'James')\n",
    "print(names) #prints {1: 'Mike', 2: 'Mary', 3: 'John', 4: 'Sonya', 7: 'William', 9: 'James'}"
   ]
  },
  {
   "cell_type": "code",
   "execution_count": 14,
   "metadata": {},
   "outputs": [
    {
     "name": "stdout",
     "output_type": "stream",
     "text": [
      "{1: 'Mike', 2: 'Mary', 3: 'John', 4: 'Sonya', 9: 'James'}\n"
     ]
    }
   ],
   "source": [
    "#del(): removes an item with a specific key\n",
    "names = {1: 'Mike', 2: 'Mary', 3: 'John', 4: 'Sonya', 7: 'William', 9: 'James'}\n",
    "del(names[7]) #removes the item that has the key 7\n",
    "print(names)"
   ]
  },
  {
   "cell_type": "code",
   "execution_count": 15,
   "metadata": {},
   "outputs": [
    {
     "name": "stdout",
     "output_type": "stream",
     "text": [
      "True\n"
     ]
    }
   ],
   "source": [
    "# in: verifies if a key is in a dictionary. It is used in conditional expressions testing\n",
    "names = {1: 'Mike', 2: 'Mary', 3: 'John', 4: 'Sonya', 7: 'William', 9: 'James'}\n",
    "print(2 in names) #checks if 2 is a key in the dictionary names. Return True"
   ]
  },
  {
   "cell_type": "markdown",
   "metadata": {},
   "source": [
    "<h3> Lab Assignment</h3>\n",
    "<a id =\"lab\"> </a>"
   ]
  },
  {
   "cell_type": "markdown",
   "metadata": {},
   "source": [
    "<p> Q1) Write a program to create a dictionary (named months) with the following key-value pairs: <br>\n",
    "    1 - 'January'\n",
    "    2 - 'February'\n",
    "    3 - 'March'\n",
    "    4 - 'April' </p>\n",
    "    "
   ]
  },
  {
   "cell_type": "code",
   "execution_count": null,
   "metadata": {},
   "outputs": [],
   "source": []
  },
  {
   "cell_type": "markdown",
   "metadata": {},
   "source": [
    "<p> Q2) Write a program to check if the key 10 exists in the dictionary months and print the result. </p>"
   ]
  },
  {
   "cell_type": "code",
   "execution_count": null,
   "metadata": {},
   "outputs": [],
   "source": []
  },
  {
   "cell_type": "markdown",
   "metadata": {},
   "source": [
    "<p> Q3) Write a program to merge to months dictionary with a dictionary named (later_months). later_months = {8: 'August', 9:'September'} </p>"
   ]
  },
  {
   "cell_type": "code",
   "execution_count": null,
   "metadata": {},
   "outputs": [],
   "source": []
  }
 ],
 "metadata": {
  "kernelspec": {
   "display_name": "Python 3",
   "language": "python",
   "name": "python3"
  },
  "language_info": {
   "codemirror_mode": {
    "name": "ipython",
    "version": 3
   },
   "file_extension": ".py",
   "mimetype": "text/x-python",
   "name": "python",
   "nbconvert_exporter": "python",
   "pygments_lexer": "ipython3",
   "version": "3.7.4"
  }
 },
 "nbformat": 4,
 "nbformat_minor": 2
}
